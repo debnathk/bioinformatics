{
 "cells": [
  {
   "attachments": {},
   "cell_type": "markdown",
   "metadata": {},
   "source": [
    "# Pairwise Sequence Alignments in Biopython"
   ]
  },
  {
   "attachments": {},
   "cell_type": "markdown",
   "metadata": {},
   "source": [
    "## Context:\n",
    "- Pairwise Sequence Alignment is used to identify regions of similarity that may indicate functional, structural and/or evolutionary relationships between two biological sequences (protein or nucleic acid)\n",
    "- Identifying the similar region enables us to infer a lot of information like what traits are conserved between species, how close different species genetically are, how species evolve, etc\n",
    "- Pairwise sequence alignment uses a dynamic programming to the optimal alignment between the two sequences, scoring based on their similarity (how similar they are) or distance (how different they are), and then assessing the significance of this score\n",
    "- Two types - global (comparing overall sequence) and local (comparing subsequence)\n",
    "- Two parameters - match score (indiacates compatibility of two characters) and gap penalty (penalty assigned for mismatch)\n",
    "- Two built-in pairwise aligners: **Bio.pairwise2 module** and **PairwiseAligner class within Bio.Align module**\n",
    "- The names of the alignment functions in this module follow the convention alignmenttypeXY where alignmenttype is either “global” or “local”\n",
    "- XY = 2 character code indicating the parameters it takes \n",
    "- The first character X = the parameters for matches (and mismatches), and the second Y = the parameters for gap penalties."
   ]
  },
  {
   "attachments": {},
   "cell_type": "markdown",
   "metadata": {},
   "source": [
    "### Match parameters:\n",
    "- x - No parameters. Identical characters have score of 1, otherwise 0\n",
    "- m - A match score is the score of identical chars, otherwise mismatch score. Keywords: match, mismatch\n",
    "- d - A dictionary returns the score of any pair of characters. Keyword: match_dict\n",
    "- c - A callback function returns scores. Keyword: match_fn"
   ]
  },
  {
   "attachments": {},
   "cell_type": "markdown",
   "metadata": {},
   "source": [
    "### Gap penalty parameters:\n",
    "- x - No gap penalties\n",
    "- s - Same open and extend gap penalties for both sequences. Keywords: open, extend\n",
    "- d - The sequences have different open and extend gap penalties. Keywords openA, extendA, openB, extendB\n",
    "- c - A callback function returns the gap penalties. Keywords gap_A_fn, gap_B_fn"
   ]
  },
  {
   "attachments": {},
   "cell_type": "markdown",
   "metadata": {},
   "source": [
    "## Example of Global Alignment"
   ]
  },
  {
   "cell_type": "code",
   "execution_count": 1,
   "metadata": {},
   "outputs": [],
   "source": [
    "from Bio import pairwise2"
   ]
  },
  {
   "cell_type": "code",
   "execution_count": 2,
   "metadata": {},
   "outputs": [
    {
     "name": "stdout",
     "output_type": "stream",
     "text": [
      "ACCGGT\n",
      "| | ||\n",
      "A-C-GT\n",
      "  Score=4\n",
      "\n",
      "ACCGGT\n",
      "||  ||\n",
      "AC--GT\n",
      "  Score=4\n",
      "\n",
      "ACCGGT\n",
      "| || |\n",
      "A-CG-T\n",
      "  Score=4\n",
      "\n",
      "ACCGGT\n",
      "|| | |\n",
      "AC-G-T\n",
      "  Score=4\n",
      "\n"
     ]
    }
   ],
   "source": [
    "# globalxx - matches score 1, mismatches 0 and no gap penalty.\n",
    "alignments = pairwise2.align.globalxx(\"ACCGGT\", \"ACGT\") \n",
    "for alignment in alignments:\n",
    "    print(pairwise2.format_alignment(*alignment))"
   ]
  },
  {
   "attachments": {},
   "cell_type": "markdown",
   "metadata": {},
   "source": [
    "Interpretation: The function calculates all possible global alignment combiantions for the two sequences."
   ]
  },
  {
   "cell_type": "code",
   "execution_count": 3,
   "metadata": {},
   "outputs": [
    {
     "name": "stdout",
     "output_type": "stream",
     "text": [
      "ACCGGT\n",
      "| | ||\n",
      "A-C-GT\n",
      "  Score=8\n",
      "\n",
      "ACCGGT\n",
      "||  ||\n",
      "AC--GT\n",
      "  Score=8\n",
      "\n",
      "ACCGGT\n",
      "| || |\n",
      "A-CG-T\n",
      "  Score=8\n",
      "\n",
      "ACCGGT\n",
      "|| | |\n",
      "AC-G-T\n",
      "  Score=8\n",
      "\n"
     ]
    }
   ],
   "source": [
    "# globalmx - # matches score 2, mismatches -1. No gap penalty.\n",
    "alignments = pairwise2.align.globalmx(\"ACCGGT\", \"ACGT\", match=2, mismatch=-1) \n",
    "for alignment in alignments:\n",
    "    print(pairwise2.format_alignment(*alignment))"
   ]
  },
  {
   "cell_type": "code",
   "execution_count": 4,
   "metadata": {},
   "outputs": [
    {
     "name": "stdout",
     "output_type": "stream",
     "text": [
      "KEVLA\n",
      " ||| \n",
      "-EVL-\n",
      "  Score=13\n",
      "\n"
     ]
    }
   ],
   "source": [
    "# globaldx - matching/mismatching scores read from blosum62 matrix, no gap penalty\n",
    "from Bio.Align import substitution_matrices\n",
    "matrix = substitution_matrices.load(\"BLOSUM62\") # blosum62 scoring matrix for sequence alignment of proteins\n",
    "alignments = pairwise2.align.globaldx(\"KEVLA\", \"EVL\", match_dict=matrix)\n",
    "for alignment in alignments:\n",
    "    print(pairwise2.format_alignment(*alignment))"
   ]
  },
  {
   "attachments": {},
   "cell_type": "markdown",
   "metadata": {},
   "source": [
    "Interpreation: BLOSUM62 substitution matrix is used for scoring"
   ]
  },
  {
   "cell_type": "code",
   "execution_count": 5,
   "metadata": {},
   "outputs": [
    {
     "name": "stdout",
     "output_type": "stream",
     "text": [
      "ACCCCCGT\n",
      "|    || \n",
      "A----CG-\n",
      "  Score=9.30685\n",
      "\n",
      "ACCCCCGT\n",
      "||    | \n",
      "AC----G-\n",
      "  Score=9.30685\n",
      "\n"
     ]
    }
   ],
   "source": [
    "# globalmc - matches score 5, mismatches -4, gap penalty defined through function gap_function\n",
    "from math import log\n",
    "def gap_function(x, y):  # x is gap position in seq, y is gap length\n",
    "     if y == 0:  # No gap\n",
    "        return 0\n",
    "     elif y == 1:  # Gap open penalty\n",
    "        return -2\n",
    "     return - (2 + y/4.0 + log(y)/2.0)\n",
    "\n",
    "alignments = pairwise2.align.globalmc(\"ACCCCCGT\", \"ACG\", match=5, mismatch=-4,\n",
    "                                     gap_A_fn=gap_function, gap_B_fn=gap_function)\n",
    "for alignment in alignments:\n",
    "    print(pairwise2.format_alignment(*alignment))"
   ]
  },
  {
   "attachments": {},
   "cell_type": "markdown",
   "metadata": {},
   "source": [
    "Interpretation: Gap penalty is calculated using user-defined gap function"
   ]
  },
  {
   "attachments": {},
   "cell_type": "markdown",
   "metadata": {},
   "source": [
    "## Example of Local Alignment"
   ]
  },
  {
   "cell_type": "code",
   "execution_count": 6,
   "metadata": {},
   "outputs": [
    {
     "name": "stdout",
     "output_type": "stream",
     "text": [
      "ACCGGT\n",
      "| | ||\n",
      "A-C-GT\n",
      "  Score=4\n",
      "\n",
      "ACCGGT\n",
      "||  ||\n",
      "AC--GT\n",
      "  Score=4\n",
      "\n",
      "ACCGGT\n",
      "| || |\n",
      "A-CG-T\n",
      "  Score=4\n",
      "\n",
      "ACCGGT\n",
      "|| | |\n",
      "AC-G-T\n",
      "  Score=4\n",
      "\n"
     ]
    }
   ],
   "source": [
    "# localxx - matches score 1, mismatches 0 and no gap penalty.\n",
    "alignments = pairwise2.align.localxx(\"ACCGGT\", \"ACGT\") \n",
    "for alignment in alignments:\n",
    "    print(pairwise2.format_alignment(*alignment))"
   ]
  },
  {
   "cell_type": "code",
   "execution_count": 7,
   "metadata": {},
   "outputs": [
    {
     "name": "stdout",
     "output_type": "stream",
     "text": [
      "ACCGGT\n",
      "| | ||\n",
      "A-C-GT\n",
      "  Score=8\n",
      "\n",
      "ACCGGT\n",
      "||  ||\n",
      "AC--GT\n",
      "  Score=8\n",
      "\n",
      "ACCGGT\n",
      "| || |\n",
      "A-CG-T\n",
      "  Score=8\n",
      "\n",
      "ACCGGT\n",
      "|| | |\n",
      "AC-G-T\n",
      "  Score=8\n",
      "\n"
     ]
    }
   ],
   "source": [
    "# localmx - # matches score 2, mismatches -1. No gap penalty.\n",
    "alignments = pairwise2.align.localmx(\"ACCGGT\", \"ACGT\", match=2, mismatch=-1) \n",
    "for alignment in alignments:\n",
    "    print(pairwise2.format_alignment(*alignment))"
   ]
  },
  {
   "cell_type": "code",
   "execution_count": 8,
   "metadata": {},
   "outputs": [
    {
     "name": "stdout",
     "output_type": "stream",
     "text": [
      "2 EVL\n",
      "  |||\n",
      "1 EVL\n",
      "  Score=13\n",
      "\n"
     ]
    }
   ],
   "source": [
    "# localdx - matching/mismatching scores read from blosum62 matrix, no gap penalty\n",
    "from Bio.Align import substitution_matrices\n",
    "matrix = substitution_matrices.load(\"BLOSUM62\") # blosum62 scoring matrix for sequence alignment of proteins\n",
    "alignments = pairwise2.align.localdx(\"KEVLA\", \"EVL\", match_dict=matrix)\n",
    "for alignment in alignments:\n",
    "    print(pairwise2.format_alignment(*alignment))"
   ]
  },
  {
   "cell_type": "code",
   "execution_count": 9,
   "metadata": {},
   "outputs": [
    {
     "name": "stdout",
     "output_type": "stream",
     "text": [
      "1 ACCCCCG\n",
      "  |    ||\n",
      "1 A----CG\n",
      "  Score=11.3069\n",
      "\n",
      "1 ACCCCCG\n",
      "  ||    |\n",
      "1 AC----G\n",
      "  Score=11.3069\n",
      "\n"
     ]
    }
   ],
   "source": [
    "# localmc - matches score 5, mismatches -4, gap penalty defined through function gap_function\n",
    "from math import log\n",
    "def gap_function(x, y):  # x is gap position in seq, y is gap length\n",
    "     if y == 0:  # No gap\n",
    "        return 0\n",
    "     elif y == 1:  # Gap open penalty\n",
    "        return -2\n",
    "     return - (2 + y/4.0 + log(y)/2.0)\n",
    "\n",
    "alignments = pairwise2.align.localmc(\"ACCCCCGT\", \"ACG\", match=5, mismatch=-4,\n",
    "                                     gap_A_fn=gap_function, gap_B_fn=gap_function)\n",
    "for alignment in alignments:\n",
    "    print(pairwise2.format_alignment(*alignment))"
   ]
  },
  {
   "attachments": {},
   "cell_type": "markdown",
   "metadata": {},
   "source": [
    "## Summary: In this tutorial, we performed global and local alignments between two sequences. For scoring in each instance, we opt for default alignment parameters, user-defined parameters, BLOSUM62 substitute matrix for scoring and also used-defined gap function."
   ]
  },
  {
   "attachments": {},
   "cell_type": "markdown",
   "metadata": {},
   "source": [
    "# Finish!"
   ]
  }
 ],
 "metadata": {
  "kernelspec": {
   "display_name": "bioinformatics_base",
   "language": "python",
   "name": "python3"
  },
  "language_info": {
   "codemirror_mode": {
    "name": "ipython",
    "version": 3
   },
   "file_extension": ".py",
   "mimetype": "text/x-python",
   "name": "python",
   "nbconvert_exporter": "python",
   "pygments_lexer": "ipython3",
   "version": "3.9.7"
  },
  "orig_nbformat": 4
 },
 "nbformat": 4,
 "nbformat_minor": 2
}
