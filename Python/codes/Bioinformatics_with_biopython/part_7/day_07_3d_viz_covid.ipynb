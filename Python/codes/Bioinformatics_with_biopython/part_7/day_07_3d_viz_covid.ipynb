{
 "cells": [
  {
   "cell_type": "markdown",
   "metadata": {},
   "source": [
    "# 3D Visualization of COVID-19 protein"
   ]
  },
  {
   "cell_type": "markdown",
   "metadata": {},
   "source": [
    "## Context\n",
    "- In the previous tutorial, we ran BLAST search for protein sequece of COVID-19 genome\n",
    "- Here, we will visualize the protein in 3D\n",
    "- We will retrieve the structural file of the protein form PDB\n",
    "- PDB database stores protein records that contain coordinate information of each atom, which we will be using to visualize SARS-CoV-2 protein.\n",
    "- We will read the pdb file using **Bio.PDB** module\n",
    "- **chain.id** function extracts the number of chains in the protein\n",
    "- Finally, we will use **nglview** library to visualize the 3D structure of the protein"
   ]
  },
  {
   "cell_type": "code",
   "execution_count": 1,
   "metadata": {},
   "outputs": [],
   "source": [
    "# id of protein we are searching for (cp from day 6 lecture)\n",
    "seq_id = \"pdb|7D4F|A\""
   ]
  },
  {
   "cell_type": "code",
   "execution_count": 2,
   "metadata": {},
   "outputs": [
    {
     "data": {
      "text/plain": [
       "'7D4F'"
      ]
     },
     "execution_count": 2,
     "metadata": {},
     "output_type": "execute_result"
    }
   ],
   "source": [
    "id = seq_id.split(\"|\")[1]\n",
    "id"
   ]
  },
  {
   "cell_type": "code",
   "execution_count": 21,
   "metadata": {},
   "outputs": [],
   "source": [
    "# download the corresponding pdb file\n",
    "# !wget https://files.rcsb.org/download/7D4F.pdb --no-check-certificate"
   ]
  },
  {
   "cell_type": "code",
   "execution_count": 12,
   "metadata": {},
   "outputs": [
    {
     "data": {
      "text/plain": [
       "<Structure id=7D4F>"
      ]
     },
     "execution_count": 12,
     "metadata": {},
     "output_type": "execute_result"
    }
   ],
   "source": [
    "# read pdb file\n",
    "import Bio\n",
    "from Bio.PDB import PDBParser\n",
    "parser = PDBParser()\n",
    "structure = parser.get_structure(\"7D4F\", \"7D4F.pdb\")\n",
    "structure"
   ]
  },
  {
   "cell_type": "code",
   "execution_count": 13,
   "metadata": {},
   "outputs": [
    {
     "name": "stdout",
     "output_type": "stream",
     "text": [
      "Chain ID: B\n",
      "Chain ID: C\n",
      "Chain ID: G\n",
      "Chain ID: A\n"
     ]
    }
   ],
   "source": [
    "for chain in structure[0]:\n",
    "    print(f'Chain ID: {chain.id}')"
   ]
  },
  {
   "cell_type": "code",
   "execution_count": 20,
   "metadata": {},
   "outputs": [
    {
     "data": {
      "application/vnd.jupyter.widget-view+json": {
       "model_id": "c676d2e8a0794b82b0ee0dce74fd8b2b",
       "version_major": 2,
       "version_minor": 0
      },
      "text/plain": [
       "NGLWidget()"
      ]
     },
     "metadata": {},
     "output_type": "display_data"
    }
   ],
   "source": [
    "import nglview as nv\n",
    "view = nv.show_structure_file('7D4F.pdb')\n",
    "view"
   ]
  },
  {
   "cell_type": "markdown",
   "metadata": {},
   "source": [
    "Interpretation: The protein consists of 4 helical chains: A(Blue), B(Red), C(Yellow), G(Grey). The protein has 2 ligands: H3U (visible ligands) and Zn2+."
   ]
  },
  {
   "cell_type": "markdown",
   "metadata": {},
   "source": [
    "## Summary: In this tutorial, we extracted the pdb structure of one of the proteins found to be similar to COVID-19 protein in BLAST result, and visualized the protein using nglview library."
   ]
  },
  {
   "cell_type": "markdown",
   "metadata": {},
   "source": [
    "# Finish!"
   ]
  }
 ],
 "metadata": {
  "kernelspec": {
   "display_name": "bioinformatics_base",
   "language": "python",
   "name": "python3"
  },
  "language_info": {
   "codemirror_mode": {
    "name": "ipython",
    "version": 3
   },
   "file_extension": ".py",
   "mimetype": "text/x-python",
   "name": "python",
   "nbconvert_exporter": "python",
   "pygments_lexer": "ipython3",
   "version": "3.9.7"
  },
  "orig_nbformat": 4
 },
 "nbformat": 4,
 "nbformat_minor": 2
}
