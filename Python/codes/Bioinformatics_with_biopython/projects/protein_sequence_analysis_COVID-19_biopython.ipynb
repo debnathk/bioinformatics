{
 "cells": [
  {
   "cell_type": "markdown",
   "metadata": {},
   "source": [
    "# Crash Course - Protein Sequence Analysis of COVID-19 using Biopython"
   ]
  },
  {
   "cell_type": "markdown",
   "metadata": {},
   "source": [
    "In this tutorial we will deep dive into some interesting applications of the popular **BioPython** package in biological sequence analysis.\n",
    "- Credit: [JCharisTech](https://www.youtube.com/watch?v=dxVKG2gNSos&ab_channel=JCharisTech)\n",
    "- The original tutorial can be found [here](https://www.youtube.com/watch?v=dxVKG2gNSos&ab_channel=JCharisTech).\n",
    "\n",
    "Contents:\n",
    "- DNA Sequence Manipulation\n",
    "    - Join 2 sequences\n",
    "    - Find position of a specific codon\n",
    "    - Count number of nucleotides\n",
    "    - Complement\n",
    "    - Reverse complement\n",
    "- Transcription\n",
    "- Translation\n",
    "    - DNA to Protein\n",
    "    - RNA to Protein\n",
    "- Reverse transcription\n",
    "- Codon table\n",
    "    - For DNA \n",
    "    - For RNA\n",
    "- Sequence analysis of COVID-19\n",
    "    - \n",
    "\n"
   ]
  },
  {
   "cell_type": "markdown",
   "metadata": {},
   "source": [
    "### DNA Sequence Manipulation"
   ]
  },
  {
   "cell_type": "code",
   "execution_count": 3,
   "metadata": {},
   "outputs": [],
   "source": [
    "from Bio.Seq import Seq"
   ]
  },
  {
   "cell_type": "markdown",
   "metadata": {},
   "source": [
    "#### Join 2 Sequences"
   ]
  },
  {
   "cell_type": "code",
   "execution_count": 19,
   "metadata": {},
   "outputs": [
    {
     "data": {
      "text/plain": [
       "Seq('ATGGCTGGAAATCCCCGT')"
      ]
     },
     "execution_count": 19,
     "metadata": {},
     "output_type": "execute_result"
    }
   ],
   "source": [
    "dna1 = Seq('ATGGCTGGAAATCCTTCG')\n",
    "dna2 = Seq('TCGGATGCAATCCCCGTT')\n",
    "dna = dna1[0:10] + dna2[9:-1]\n",
    "dna"
   ]
  },
  {
   "cell_type": "markdown",
   "metadata": {},
   "source": [
    "#### Find position of a specific codon"
   ]
  },
  {
   "cell_type": "code",
   "execution_count": 20,
   "metadata": {},
   "outputs": [
    {
     "name": "stdout",
     "output_type": "stream",
     "text": [
      "GGA (Glycine) code is in the 6th position.\n"
     ]
    }
   ],
   "source": [
    "pos = dna.find('GGA') # GGA - Glycine\n",
    "print(f'GGA (Glycine) code is in the {pos}th position.')"
   ]
  },
  {
   "cell_type": "markdown",
   "metadata": {},
   "source": [
    "#### Count number of nucleotides"
   ]
  },
  {
   "cell_type": "code",
   "execution_count": 21,
   "metadata": {},
   "outputs": [
    {
     "name": "stdout",
     "output_type": "stream",
     "text": [
      "Nucleotide counts:\n",
      "Count of A: 4\n",
      "Count of T: 4\n",
      "Count of G: 5\n",
      "Count of C: 5\n"
     ]
    }
   ],
   "source": [
    "print(\"Nucleotide counts:\")\n",
    "print(f'Count of A: {dna.count(\"A\")}')\n",
    "print(f'Count of T: {dna.count(\"T\")}')\n",
    "print(f'Count of G: {dna.count(\"G\")}')\n",
    "print(f'Count of C: {dna.count(\"C\")}')"
   ]
  },
  {
   "cell_type": "markdown",
   "metadata": {},
   "source": [
    "#### Complement"
   ]
  },
  {
   "cell_type": "code",
   "execution_count": 25,
   "metadata": {},
   "outputs": [
    {
     "name": "stdout",
     "output_type": "stream",
     "text": [
      "DNA: ATGGCTGGAAATCCCCGT\n",
      "DNA complement: TACCGACCTTTAGGGGCA\n"
     ]
    }
   ],
   "source": [
    "dna_comp = dna.complement()\n",
    "print(f'DNA: {dna}')\n",
    "print(f'DNA complement: {dna_comp}')"
   ]
  },
  {
   "cell_type": "markdown",
   "metadata": {},
   "source": [
    "#### Reverse complement"
   ]
  },
  {
   "cell_type": "code",
   "execution_count": 26,
   "metadata": {},
   "outputs": [
    {
     "name": "stdout",
     "output_type": "stream",
     "text": [
      "DNA: ATGGCTGGAAATCCCCGT\n",
      "DNA reverse complement: ACGGGGATTTCCAGCCAT\n"
     ]
    }
   ],
   "source": [
    "dna_rev_comp = dna.reverse_complement()\n",
    "print(f'DNA: {dna}')\n",
    "print(f'DNA reverse complement: {dna_rev_comp}')"
   ]
  },
  {
   "cell_type": "markdown",
   "metadata": {},
   "source": [
    "### Transcription"
   ]
  },
  {
   "cell_type": "code",
   "execution_count": 24,
   "metadata": {},
   "outputs": [
    {
     "name": "stdout",
     "output_type": "stream",
     "text": [
      "DNA: ATGGCTGGAAATCCCCGT\n",
      "RNA: AUGGCUGGAAAUCCCCGU\n"
     ]
    }
   ],
   "source": [
    "# DNA to RNA\n",
    "\n",
    "rna = dna.transcribe()\n",
    "print(f'DNA: {dna}')\n",
    "print(f'RNA: {rna}')"
   ]
  },
  {
   "cell_type": "markdown",
   "metadata": {},
   "source": [
    "### Translation"
   ]
  },
  {
   "cell_type": "code",
   "execution_count": 28,
   "metadata": {},
   "outputs": [
    {
     "name": "stdout",
     "output_type": "stream",
     "text": [
      "DNA: ATGGCTGGAAATCCCCGT\n",
      "Protein: MAGNPR\n"
     ]
    }
   ],
   "source": [
    "# DNA to Protein\n",
    "\n",
    "protein = dna.translate()\n",
    "print(f'DNA: {dna}')\n",
    "print(f'Protein: {protein}')"
   ]
  },
  {
   "cell_type": "code",
   "execution_count": 29,
   "metadata": {},
   "outputs": [
    {
     "name": "stdout",
     "output_type": "stream",
     "text": [
      "RNA: AUGGCUGGAAAUCCCCGU\n",
      "Protein: MAGNPR\n"
     ]
    }
   ],
   "source": [
    "# RNA to Protein\n",
    "\n",
    "protein = rna.translate()\n",
    "print(f'RNA: {rna}')\n",
    "print(f'Protein: {protein}')"
   ]
  },
  {
   "cell_type": "markdown",
   "metadata": {},
   "source": [
    "### Reverse transcription"
   ]
  },
  {
   "cell_type": "code",
   "execution_count": 30,
   "metadata": {},
   "outputs": [
    {
     "name": "stdout",
     "output_type": "stream",
     "text": [
      "RNA: AUGGCUGGAAAUCCCCGU\n",
      "cDNA: ATGGCTGGAAATCCCCGT\n"
     ]
    }
   ],
   "source": [
    "cdna = rna.back_transcribe()\n",
    "print(f'RNA: {rna}')\n",
    "print(f'cDNA: {cdna}')"
   ]
  },
  {
   "cell_type": "markdown",
   "metadata": {},
   "source": [
    "### Codon table"
   ]
  },
  {
   "cell_type": "code",
   "execution_count": 31,
   "metadata": {},
   "outputs": [],
   "source": [
    "from Bio.Data import CodonTable"
   ]
  },
  {
   "cell_type": "code",
   "execution_count": 32,
   "metadata": {},
   "outputs": [
    {
     "name": "stdout",
     "output_type": "stream",
     "text": [
      "Codon Table for DNA:\n",
      "Table 1 Standard, SGC0\n",
      "\n",
      "  |  T      |  C      |  A      |  G      |\n",
      "--+---------+---------+---------+---------+--\n",
      "T | TTT F   | TCT S   | TAT Y   | TGT C   | T\n",
      "T | TTC F   | TCC S   | TAC Y   | TGC C   | C\n",
      "T | TTA L   | TCA S   | TAA Stop| TGA Stop| A\n",
      "T | TTG L(s)| TCG S   | TAG Stop| TGG W   | G\n",
      "--+---------+---------+---------+---------+--\n",
      "C | CTT L   | CCT P   | CAT H   | CGT R   | T\n",
      "C | CTC L   | CCC P   | CAC H   | CGC R   | C\n",
      "C | CTA L   | CCA P   | CAA Q   | CGA R   | A\n",
      "C | CTG L(s)| CCG P   | CAG Q   | CGG R   | G\n",
      "--+---------+---------+---------+---------+--\n",
      "A | ATT I   | ACT T   | AAT N   | AGT S   | T\n",
      "A | ATC I   | ACC T   | AAC N   | AGC S   | C\n",
      "A | ATA I   | ACA T   | AAA K   | AGA R   | A\n",
      "A | ATG M(s)| ACG T   | AAG K   | AGG R   | G\n",
      "--+---------+---------+---------+---------+--\n",
      "G | GTT V   | GCT A   | GAT D   | GGT G   | T\n",
      "G | GTC V   | GCC A   | GAC D   | GGC G   | C\n",
      "G | GTA V   | GCA A   | GAA E   | GGA G   | A\n",
      "G | GTG V   | GCG A   | GAG E   | GGG G   | G\n",
      "--+---------+---------+---------+---------+--\n"
     ]
    }
   ],
   "source": [
    "# for DNA\n",
    "print(\"Codon Table for DNA:\")\n",
    "print(CodonTable.unambiguous_dna_by_name['Standard'])"
   ]
  },
  {
   "cell_type": "code",
   "execution_count": 33,
   "metadata": {},
   "outputs": [
    {
     "name": "stdout",
     "output_type": "stream",
     "text": [
      "Codon Table for RNA:\n",
      "Table 1 Standard, SGC0\n",
      "\n",
      "  |  U      |  C      |  A      |  G      |\n",
      "--+---------+---------+---------+---------+--\n",
      "U | UUU F   | UCU S   | UAU Y   | UGU C   | U\n",
      "U | UUC F   | UCC S   | UAC Y   | UGC C   | C\n",
      "U | UUA L   | UCA S   | UAA Stop| UGA Stop| A\n",
      "U | UUG L(s)| UCG S   | UAG Stop| UGG W   | G\n",
      "--+---------+---------+---------+---------+--\n",
      "C | CUU L   | CCU P   | CAU H   | CGU R   | U\n",
      "C | CUC L   | CCC P   | CAC H   | CGC R   | C\n",
      "C | CUA L   | CCA P   | CAA Q   | CGA R   | A\n",
      "C | CUG L(s)| CCG P   | CAG Q   | CGG R   | G\n",
      "--+---------+---------+---------+---------+--\n",
      "A | AUU I   | ACU T   | AAU N   | AGU S   | U\n",
      "A | AUC I   | ACC T   | AAC N   | AGC S   | C\n",
      "A | AUA I   | ACA T   | AAA K   | AGA R   | A\n",
      "A | AUG M(s)| ACG T   | AAG K   | AGG R   | G\n",
      "--+---------+---------+---------+---------+--\n",
      "G | GUU V   | GCU A   | GAU D   | GGU G   | U\n",
      "G | GUC V   | GCC A   | GAC D   | GGC G   | C\n",
      "G | GUA V   | GCA A   | GAA E   | GGA G   | A\n",
      "G | GUG V   | GCG A   | GAG E   | GGG G   | G\n",
      "--+---------+---------+---------+---------+--\n"
     ]
    }
   ],
   "source": [
    "# for RNA\n",
    "print(\"Codon Table for RNA:\")\n",
    "print(CodonTable.unambiguous_rna_by_name['Standard'])"
   ]
  },
  {
   "cell_type": "markdown",
   "metadata": {},
   "source": [
    "### Sequence analysis of COVID-19"
   ]
  },
  {
   "cell_type": "markdown",
   "metadata": {},
   "source": [
    "- In this tutorial, we will fetch the COVID-19 genome (MN908947) from NCBI, sequenced from bronchiolar lavage fluid of a patient in Wuhan, China on 26 December 2019\n",
    "- - The fasta file for analysis can be found [here]()"
   ]
  },
  {
   "cell_type": "code",
   "execution_count": 34,
   "metadata": {},
   "outputs": [],
   "source": [
    "from Bio import SeqIO"
   ]
  },
  {
   "cell_type": "code",
   "execution_count": null,
   "metadata": {},
   "outputs": [],
   "source": []
  }
 ],
 "metadata": {
  "kernelspec": {
   "display_name": "bioinformatics_base",
   "language": "python",
   "name": "python3"
  },
  "language_info": {
   "codemirror_mode": {
    "name": "ipython",
    "version": 3
   },
   "file_extension": ".py",
   "mimetype": "text/x-python",
   "name": "python",
   "nbconvert_exporter": "python",
   "pygments_lexer": "ipython3",
   "version": "3.9.7"
  },
  "orig_nbformat": 4
 },
 "nbformat": 4,
 "nbformat_minor": 2
}
