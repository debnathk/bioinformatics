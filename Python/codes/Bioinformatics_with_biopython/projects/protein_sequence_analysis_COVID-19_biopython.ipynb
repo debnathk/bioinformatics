{
 "cells": [
  {
   "cell_type": "markdown",
   "metadata": {},
   "source": [
    "# Crash Course - Protein Sequence Analysis of COVID-19 using Biopython"
   ]
  },
  {
   "cell_type": "markdown",
   "metadata": {},
   "source": [
    "In this tutorial we will deep dive into some interesting applications of the popular **BioPython** package in biological sequence analysis.\n",
    "\n",
    "Credit: [JCharisTech](https://www.youtube.com/watch?v=dxVKG2gNSos&ab_channel=JCharisTech)\n",
    "\n",
    "The original tutorial can be found [here](https://www.youtube.com/watch?v=dxVKG2gNSos&ab_channel=JCharisTech).\n",
    "\n",
    "Contents:\n",
    "\n",
    "- Sequence Manipulation\n",
    "    - Join 2 sequences\n",
    "    - Find position of a specific codon\n",
    "    - Count number of nucleotides\n"
   ]
  },
  {
   "cell_type": "markdown",
   "metadata": {},
   "source": [
    "### Sequence Manipulation"
   ]
  },
  {
   "cell_type": "code",
   "execution_count": 3,
   "metadata": {},
   "outputs": [],
   "source": [
    "from Bio.Seq import Seq"
   ]
  },
  {
   "cell_type": "markdown",
   "metadata": {},
   "source": [
    "#### Join 2 Sequences"
   ]
  },
  {
   "cell_type": "code",
   "execution_count": 12,
   "metadata": {},
   "outputs": [
    {
     "data": {
      "text/plain": [
       "Seq('ATGGCTGGAAATCCCCGT')"
      ]
     },
     "execution_count": 12,
     "metadata": {},
     "output_type": "execute_result"
    }
   ],
   "source": [
    "dna1 = Seq('ATGGCTGGAAATCCTTCG')\n",
    "dna2 = Seq('TCGGATGCAATCCCCGTT')\n",
    "dna3 = dna1[0:10] + dna2[9:-1]\n",
    "dna3"
   ]
  },
  {
   "cell_type": "markdown",
   "metadata": {},
   "source": [
    "#### Find position of a specific codon"
   ]
  },
  {
   "cell_type": "code",
   "execution_count": 17,
   "metadata": {},
   "outputs": [
    {
     "name": "stdout",
     "output_type": "stream",
     "text": [
      "GGA (Glycine) code is in the 6th position.\n"
     ]
    }
   ],
   "source": [
    "pos = dna3.find('GGA') # GGA - Glycine\n",
    "print(f'GGA (Glycine) code is in the {pos}th position.')"
   ]
  },
  {
   "cell_type": "markdown",
   "metadata": {},
   "source": [
    "#### Count number of nucleotides"
   ]
  },
  {
   "cell_type": "code",
   "execution_count": 15,
   "metadata": {},
   "outputs": [
    {
     "name": "stdout",
     "output_type": "stream",
     "text": [
      "Nucleotide counts:\n",
      "Count of A: 4\n",
      "Count of T: 4\n",
      "Count of G: 5\n",
      "Count of C: 5\n"
     ]
    }
   ],
   "source": [
    "print(\"Nucleotide counts:\")\n",
    "print(f'Count of A: {dna3.count(\"A\")}')\n",
    "print(f'Count of T: {dna3.count(\"T\")}')\n",
    "print(f'Count of G: {dna3.count(\"G\")}')\n",
    "print(f'Count of C: {dna3.count(\"C\")}')"
   ]
  }
 ],
 "metadata": {
  "kernelspec": {
   "display_name": "bioinformatics_base",
   "language": "python",
   "name": "python3"
  },
  "language_info": {
   "codemirror_mode": {
    "name": "ipython",
    "version": 3
   },
   "file_extension": ".py",
   "mimetype": "text/x-python",
   "name": "python",
   "nbconvert_exporter": "python",
   "pygments_lexer": "ipython3",
   "version": "3.9.7"
  },
  "orig_nbformat": 4
 },
 "nbformat": 4,
 "nbformat_minor": 2
}
