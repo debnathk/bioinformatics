{
 "cells": [
  {
   "cell_type": "markdown",
   "metadata": {},
   "source": [
    "# Crash Course - Protein Sequence Analysis of COVID-19 using Biopython"
   ]
  },
  {
   "cell_type": "markdown",
   "metadata": {},
   "source": [
    "In this tutorial we will deep dive into some interesting applications of the popular **BioPython** package in biological sequence analysis.\n",
    "\n",
    "Credit: [JCharisTech](https://www.youtube.com/watch?v=dxVKG2gNSos&ab_channel=JCharisTech)\n",
    "\n",
    "The original tutorial can be found [here](https://www.youtube.com/watch?v=dxVKG2gNSos&ab_channel=JCharisTech).\n",
    "\n",
    "Contents:\n",
    "\n",
    "- Sequence Manipulation\n",
    "    - Join 2 sequences\n",
    "    - Find position of a specific codon\n",
    "    - Count number of nucleotides\n"
   ]
  },
  {
   "cell_type": "markdown",
   "metadata": {},
   "source": [
    "### DNA Sequence Manipulation"
   ]
  },
  {
   "cell_type": "code",
   "execution_count": 3,
   "metadata": {},
   "outputs": [],
   "source": [
    "from Bio.Seq import Seq"
   ]
  },
  {
   "cell_type": "markdown",
   "metadata": {},
   "source": [
    "#### Join 2 Sequences"
   ]
  },
  {
   "cell_type": "code",
   "execution_count": 19,
   "metadata": {},
   "outputs": [
    {
     "data": {
      "text/plain": [
       "Seq('ATGGCTGGAAATCCCCGT')"
      ]
     },
     "execution_count": 19,
     "metadata": {},
     "output_type": "execute_result"
    }
   ],
   "source": [
    "dna1 = Seq('ATGGCTGGAAATCCTTCG')\n",
    "dna2 = Seq('TCGGATGCAATCCCCGTT')\n",
    "dna = dna1[0:10] + dna2[9:-1]\n",
    "dna"
   ]
  },
  {
   "cell_type": "markdown",
   "metadata": {},
   "source": [
    "#### Find position of a specific codon"
   ]
  },
  {
   "cell_type": "code",
   "execution_count": 20,
   "metadata": {},
   "outputs": [
    {
     "name": "stdout",
     "output_type": "stream",
     "text": [
      "GGA (Glycine) code is in the 6th position.\n"
     ]
    }
   ],
   "source": [
    "pos = dna.find('GGA') # GGA - Glycine\n",
    "print(f'GGA (Glycine) code is in the {pos}th position.')"
   ]
  },
  {
   "cell_type": "markdown",
   "metadata": {},
   "source": [
    "#### Count number of nucleotides"
   ]
  },
  {
   "cell_type": "code",
   "execution_count": 21,
   "metadata": {},
   "outputs": [
    {
     "name": "stdout",
     "output_type": "stream",
     "text": [
      "Nucleotide counts:\n",
      "Count of A: 4\n",
      "Count of T: 4\n",
      "Count of G: 5\n",
      "Count of C: 5\n"
     ]
    }
   ],
   "source": [
    "print(\"Nucleotide counts:\")\n",
    "print(f'Count of A: {dna.count(\"A\")}')\n",
    "print(f'Count of T: {dna.count(\"T\")}')\n",
    "print(f'Count of G: {dna.count(\"G\")}')\n",
    "print(f'Count of C: {dna.count(\"C\")}')"
   ]
  },
  {
   "cell_type": "markdown",
   "metadata": {},
   "source": [
    "### Transcription"
   ]
  },
  {
   "cell_type": "code",
   "execution_count": 23,
   "metadata": {},
   "outputs": [
    {
     "name": "stdout",
     "output_type": "stream",
     "text": [
      "DNA sequence: ATGGCTGGAAATCCCCGT\n",
      "RNA sequence: AUGGCUGGAAAUCCCCGU\n"
     ]
    }
   ],
   "source": [
    "\n",
    "rna = dna.transcribe()\n",
    "print(f'DNA sequence: {dna}')\n",
    "print(f'RNA sequence: {rna}')"
   ]
  },
  {
   "cell_type": "markdown",
   "metadata": {},
   "source": [
    "### Translation"
   ]
  },
  {
   "cell_type": "code",
   "execution_count": null,
   "metadata": {},
   "outputs": [],
   "source": []
  }
 ],
 "metadata": {
  "kernelspec": {
   "display_name": "bioinformatics_base",
   "language": "python",
   "name": "python3"
  },
  "language_info": {
   "codemirror_mode": {
    "name": "ipython",
    "version": 3
   },
   "file_extension": ".py",
   "mimetype": "text/x-python",
   "name": "python",
   "nbconvert_exporter": "python",
   "pygments_lexer": "ipython3",
   "version": "3.9.7"
  },
  "orig_nbformat": 4
 },
 "nbformat": 4,
 "nbformat_minor": 2
}
