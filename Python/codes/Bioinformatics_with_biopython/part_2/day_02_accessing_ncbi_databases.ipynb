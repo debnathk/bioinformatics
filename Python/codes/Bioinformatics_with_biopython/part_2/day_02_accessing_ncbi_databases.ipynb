{
 "cells": [
  {
   "attachments": {},
   "cell_type": "markdown",
   "metadata": {},
   "source": [
    "# Accessing NCBI databases with Biopython"
   ]
  },
  {
   "attachments": {},
   "cell_type": "markdown",
   "metadata": {},
   "source": [
    "In this tutorial, we will learn how to access various databases in the National Center for Biotechnology Information (NCBI) using BioPython."
   ]
  },
  {
   "attachments": {},
   "cell_type": "markdown",
   "metadata": {},
   "source": [
    "## Context:\n",
    "- Entrez allows us to access all tne databases in the NCBI\n",
    "- Our target is to find the chloroquine resistance transporter (CRT) gene (KM288867) in Plasmodium falciparum on the nucleotide database\n",
    "- We retrieve the sequence information of the target gene in GeneBank format\n",
    "- From all the 40 records retrieved, we derive the CRT gene information of name 'KM288867'\n",
    "- Finally we print the whole sequence of the target gene"
   ]
  },
  {
   "cell_type": "code",
   "execution_count": 1,
   "metadata": {},
   "outputs": [],
   "source": [
    "from Bio import Entrez, SeqIO"
   ]
  },
  {
   "cell_type": "code",
   "execution_count": 2,
   "metadata": {},
   "outputs": [],
   "source": [
    "Entrez.email = \"debnathk1997@gmail.com\" "
   ]
  },
  {
   "cell_type": "code",
   "execution_count": 3,
   "metadata": {},
   "outputs": [
    {
     "name": "stdout",
     "output_type": "stream",
     "text": [
      "dict_keys(['DbList'])\n"
     ]
    }
   ],
   "source": [
    "# This gives you the list of available databases\n",
    "handle = Entrez.einfo() # obtaining a list of all database names accessible through Entrez\n",
    "rec = Entrez.read(handle)\n",
    "handle.close()\n",
    "print(rec.keys())"
   ]
  },
  {
   "cell_type": "code",
   "execution_count": 4,
   "metadata": {},
   "outputs": [
    {
     "data": {
      "text/plain": [
       "['pubmed', 'protein', 'nuccore', 'ipg', 'nucleotide', 'structure', 'genome', 'annotinfo', 'assembly', 'bioproject', 'biosample', 'blastdbinfo', 'books', 'cdd', 'clinvar', 'gap', 'gapplus', 'grasp', 'dbvar', 'gene', 'gds', 'geoprofiles', 'homologene', 'medgen', 'mesh', 'nlmcatalog', 'omim', 'orgtrack', 'pmc', 'popset', 'proteinclusters', 'pcassay', 'protfam', 'pccompound', 'pcsubstance', 'seqannot', 'snp', 'sra', 'taxonomy', 'biocollections', 'gtr']"
      ]
     },
     "execution_count": 4,
     "metadata": {},
     "output_type": "execute_result"
    }
   ],
   "source": [
    "rec['DbList']"
   ]
  },
  {
   "attachments": {},
   "cell_type": "markdown",
   "metadata": {},
   "source": [
    "We will now try to find the chloroquine resistance transporter (CRT) gene (KM288867) in Plasmodium falciparum (the parasite that causes the deadliest form of malaria) on the nucleotide database:\n",
    "\n",
    "Note: the standard search will limit the number of record references to 20. We have to override retmax to desired amount of records."
   ]
  },
  {
   "cell_type": "code",
   "execution_count": 5,
   "metadata": {},
   "outputs": [
    {
     "data": {
      "text/plain": [
       "'3080'"
      ]
     },
     "execution_count": 5,
     "metadata": {},
     "output_type": "execute_result"
    }
   ],
   "source": [
    "handle = Entrez.esearch(db=\"nucleotide\", term='CRT[Gene Name] AND \"Plasmodium falciparum\"[Organism]', retmax=\"40\") # Searching the Entrez databases\n",
    "rec_list = Entrez.read(handle)\n",
    "handle.close()\n",
    "rec_list['Count'] # no of records found for the desired term in the nucleotide databse in NCBI"
   ]
  },
  {
   "cell_type": "code",
   "execution_count": 6,
   "metadata": {},
   "outputs": [
    {
     "data": {
      "text/plain": [
       "40"
      ]
     },
     "execution_count": 6,
     "metadata": {},
     "output_type": "execute_result"
    }
   ],
   "source": [
    "len(rec_list['IdList']) # no of unique ids"
   ]
  },
  {
   "cell_type": "code",
   "execution_count": 7,
   "metadata": {},
   "outputs": [
    {
     "data": {
      "text/plain": [
       "['2507817686', '2507817684', '2507817682', '2507817680', '2507817678', '2507817676', '2507817674', '2507817672', '2507817670', '2507817668', '2507817666', '2507817664', '2507817662', '2507817660', '2507817658', '2507817656', '2507817654', '2507817652', '2507817650', '2507817648', '2507817646', '2507817644', '2507817642', '2507817640', '2507817638', '2507817636', '2507817634', '2507817632', '2507817630', '2507817628', '2507817626', '2507817624', '2507817622', '2507817620', '2507817618', '2507817616', '2507817614', '2507817612', '2507817610', '2507817608']"
      ]
     },
     "execution_count": 7,
     "metadata": {},
     "output_type": "execute_result"
    }
   ],
   "source": [
    "rec_list['IdList']"
   ]
  },
  {
   "cell_type": "code",
   "execution_count": 8,
   "metadata": {},
   "outputs": [],
   "source": [
    "id_list = rec_list['IdList']\n",
    "handle = Entrez.efetch(db='nucleotide', id=id_list, rettype='gb') # downloading full records from Entrez"
   ]
  },
  {
   "cell_type": "code",
   "execution_count": 9,
   "metadata": {},
   "outputs": [],
   "source": [
    "recs = list(SeqIO.parse(handle, 'gb'))\n",
    "handle.close()"
   ]
  },
  {
   "cell_type": "code",
   "execution_count": 10,
   "metadata": {},
   "outputs": [
    {
     "data": {
      "text/plain": [
       "[SeqRecord(seq=Seq('TGTGCTCATGTGTTTAAACTTATTTTTAAAGAGATTAAGGATAATATTTTTATT...TTG'), id='OQ672451.1', name='OQ672451', description='Plasmodium falciparum isolate ML_14 chloroquine resistance transporter (crt) gene, partial cds', dbxrefs=[]),\n",
       " SeqRecord(seq=Seq('TGTGCTCATGTGTTTAAACTTATTTTTAAAGAGATTAAGGATAATATTTTTATT...TTG'), id='OQ672450.1', name='OQ672450', description='Plasmodium falciparum isolate ML_13 chloroquine resistance transporter (crt) gene, partial cds', dbxrefs=[]),\n",
       " SeqRecord(seq=Seq('TGTGCTCATGTGTTTAAACTTATTTTTAAAGAGATTAAGGATAATATTTTTATT...TTG'), id='OQ672449.1', name='OQ672449', description='Plasmodium falciparum isolate ML_12 chloroquine resistance transporter (crt) gene, partial cds', dbxrefs=[]),\n",
       " SeqRecord(seq=Seq('TGTGCTCATGTGTTTAAACTTATTTTTAAAGAGATTAAGGATAATATTTTTATT...TTG'), id='OQ672448.1', name='OQ672448', description='Plasmodium falciparum isolate ML_11 chloroquine resistance transporter (crt) gene, partial cds', dbxrefs=[]),\n",
       " SeqRecord(seq=Seq('TGTGCTCATGTGTTTAAACTTATTTTTAAAGAGATTAAGGATAATATTTTTATT...TTG'), id='OQ672447.1', name='OQ672447', description='Plasmodium falciparum isolate ML_10 chloroquine resistance transporter (crt) gene, partial cds', dbxrefs=[]),\n",
       " SeqRecord(seq=Seq('TGTGCTCATGTGTTTAAACTTATTTTTAAAGAGATTAAGGATAATATTTTTATT...TTG'), id='OQ672446.1', name='OQ672446', description='Plasmodium falciparum isolate ML_09 chloroquine resistance transporter (crt) gene, partial cds', dbxrefs=[]),\n",
       " SeqRecord(seq=Seq('TGTGCTCATGTGTTTAAACTTATTTTTAAAGAGATTAAGGATAATATTTTTATT...TTG'), id='OQ672445.1', name='OQ672445', description='Plasmodium falciparum isolate ML_08 chloroquine resistance transporter (crt) gene, partial cds', dbxrefs=[]),\n",
       " SeqRecord(seq=Seq('TGTGCTCATGTGTTTAAACTTATTTTTAAAGAGATTAAGGATAATATTTTTATT...TTG'), id='OQ672444.1', name='OQ672444', description='Plasmodium falciparum isolate ML_07 chloroquine resistance transporter (crt) gene, partial cds', dbxrefs=[]),\n",
       " SeqRecord(seq=Seq('TGTGCTCATGTGTTTAAACTTATTTTTAAAGAGATTAAGGATAATATTTTTATT...TTG'), id='OQ672443.1', name='OQ672443', description='Plasmodium falciparum isolate ML_06 chloroquine resistance transporter (crt) gene, partial cds', dbxrefs=[]),\n",
       " SeqRecord(seq=Seq('TGTGCTCATGTGTTTAAACTTATTTTTAAAGAGATTAAGGATAATATTTTTATT...TTG'), id='OQ672442.1', name='OQ672442', description='Plasmodium falciparum isolate ML_05 chloroquine resistance transporter (crt) gene, partial cds', dbxrefs=[]),\n",
       " SeqRecord(seq=Seq('TGTGCTCATGTGTTTAAACTTATTTTTAAAGAGATTAAGGATAATATTTTTATT...TTG'), id='OQ672441.1', name='OQ672441', description='Plasmodium falciparum isolate ML_04 chloroquine resistance transporter (crt) gene, partial cds', dbxrefs=[]),\n",
       " SeqRecord(seq=Seq('TGTGCTCATGTGTTTAAACTTATTTTTAAAGAGATTAAGGATAATATTTTTATT...TTG'), id='OQ672440.1', name='OQ672440', description='Plasmodium falciparum isolate ML_03 chloroquine resistance transporter (crt) gene, partial cds', dbxrefs=[]),\n",
       " SeqRecord(seq=Seq('TGTGCTCATGTGTTTAAACTTATTTTTAAAGAGATTAAGGATAATATTTTTATT...TTG'), id='OQ672439.1', name='OQ672439', description='Plasmodium falciparum isolate ML_02 chloroquine resistance transporter (crt) gene, partial cds', dbxrefs=[]),\n",
       " SeqRecord(seq=Seq('TGTGCTCATGTGTTTAAACTTATTTTTAAAGAGATTAAGGATAATATTTTTATT...TTG'), id='OQ672438.1', name='OQ672438', description='Plasmodium falciparum isolate ML_01 chloroquine resistance transporter (crt) gene, partial cds', dbxrefs=[]),\n",
       " SeqRecord(seq=Seq('TGTGCTCATGTGTTTAAACTTATTTTTAAAGAGATTAAGGATAATATTTTTATT...TTG'), id='OQ672437.1', name='OQ672437', description='Plasmodium falciparum isolate CZS_20 chloroquine resistance transporter (crt) gene, partial cds', dbxrefs=[]),\n",
       " SeqRecord(seq=Seq('TGTGCTCATGTGTTTAAACTTATTTTTAAAGAGATTAAGGATAATATTTTTATT...TTG'), id='OQ672436.1', name='OQ672436', description='Plasmodium falciparum isolate CZS_19 chloroquine resistance transporter (crt) gene, partial cds', dbxrefs=[]),\n",
       " SeqRecord(seq=Seq('TGTGCTCATGTGTTTAAACTTATTTTTAAAGAGATTAAGGATAATATTTTTATT...TTG'), id='OQ672435.1', name='OQ672435', description='Plasmodium falciparum isolate CZS_18 chloroquine resistance transporter (crt) gene, partial cds', dbxrefs=[]),\n",
       " SeqRecord(seq=Seq('TGTGCTCATGTGTTTAAACTTATTTTTAAAGAGATTAAGGATAATATTTTTATT...TTG'), id='OQ672434.1', name='OQ672434', description='Plasmodium falciparum isolate CZS_17 chloroquine resistance transporter (crt) gene, partial cds', dbxrefs=[]),\n",
       " SeqRecord(seq=Seq('TGTGCTCATGTGTTTAAACTTATTTTTAAAGAGATTAAGGATAATATTTTTATT...TTG'), id='OQ672433.1', name='OQ672433', description='Plasmodium falciparum isolate CZS_16 chloroquine resistance transporter (crt) gene, partial cds', dbxrefs=[]),\n",
       " SeqRecord(seq=Seq('TGTGCTCATGTGTTTAAACTTATTTTTAAAGAGATTAAGGATAATATTTTTATT...TTG'), id='OQ672432.1', name='OQ672432', description='Plasmodium falciparum isolate CZS_15 chloroquine resistance transporter (crt) gene, partial cds', dbxrefs=[]),\n",
       " SeqRecord(seq=Seq('TGTGCTCATGTGTTTAAACTTATTTTTAAAGAGATTAAGGATAATATTTTTATT...TTG'), id='OQ672431.1', name='OQ672431', description='Plasmodium falciparum isolate CZS_14 chloroquine resistance transporter (crt) gene, partial cds', dbxrefs=[]),\n",
       " SeqRecord(seq=Seq('TGTGCTCATGTGTTTAAACTTATTTTTAAAGAGATTAAGGATAATATTTTTATT...TTG'), id='OQ672430.1', name='OQ672430', description='Plasmodium falciparum isolate CZS_13 chloroquine resistance transporter (crt) gene, partial cds', dbxrefs=[]),\n",
       " SeqRecord(seq=Seq('TGTGCTCATGTGTTTAAACTTATTTTTAAAGAGATTAAGGATAATATTTTTATT...TTG'), id='OQ672429.1', name='OQ672429', description='Plasmodium falciparum isolate CZS_12 chloroquine resistance transporter (crt) gene, partial cds', dbxrefs=[]),\n",
       " SeqRecord(seq=Seq('TGTGCTCATGTGTTTAAACTTATTTTTAAAGAGATTAAGGATAATATTTTTATT...TTG'), id='OQ672428.1', name='OQ672428', description='Plasmodium falciparum isolate CZS_11 chloroquine resistance transporter (crt) gene, partial cds', dbxrefs=[]),\n",
       " SeqRecord(seq=Seq('TGTGCTCATGTGTTTAAACTTATTTTTAAAGAGATTAAGGATAATATTTTTATT...TTG'), id='OQ672427.1', name='OQ672427', description='Plasmodium falciparum isolate CZS_10 chloroquine resistance transporter (crt) gene, partial cds', dbxrefs=[]),\n",
       " SeqRecord(seq=Seq('TGTGCTCATGTGTTTAAACTTATTTTTAAAGAGATTAAGGATAATATTTTTATT...TTG'), id='OQ672426.1', name='OQ672426', description='Plasmodium falciparum isolate CZS_09 chloroquine resistance transporter (crt) gene, partial cds', dbxrefs=[]),\n",
       " SeqRecord(seq=Seq('TGTGCTCATGTGTTTAAACTTATTTTTAAAGAGATTAAGGATAATATTTTTATT...TTG'), id='OQ672425.1', name='OQ672425', description='Plasmodium falciparum isolate CZS_08 chloroquine resistance transporter (crt) gene, partial cds', dbxrefs=[]),\n",
       " SeqRecord(seq=Seq('TGTGCTCATGTGTTTAAACTTATTTTTAAAGAGATTAAGGATAATATTTTTATT...TTG'), id='OQ672424.1', name='OQ672424', description='Plasmodium falciparum isolate CZS_07 chloroquine resistance transporter (crt) gene, partial cds', dbxrefs=[]),\n",
       " SeqRecord(seq=Seq('TGTGCTCATGTGTTTAAACTTATTTTTAAAGAGATTAAGGATAATATTTTTATT...TTG'), id='OQ672423.1', name='OQ672423', description='Plasmodium falciparum isolate CZS_06 chloroquine resistance transporter (crt) gene, partial cds', dbxrefs=[]),\n",
       " SeqRecord(seq=Seq('TGTGCTCATGTGTTTAAACTTATTTTTAAAGAGATTAAGGATAATATTTTTATT...TTG'), id='OQ672422.1', name='OQ672422', description='Plasmodium falciparum isolate CZS_05 chloroquine resistance transporter (crt) gene, partial cds', dbxrefs=[]),\n",
       " SeqRecord(seq=Seq('TGTGCTCATGTGTTTAAACTTATTTTTAAAGAGATTAAGGATAATATTTTTATT...TTG'), id='OQ672421.1', name='OQ672421', description='Plasmodium falciparum isolate CZS_04 chloroquine resistance transporter (crt) gene, partial cds', dbxrefs=[]),\n",
       " SeqRecord(seq=Seq('TGTGCTCATGTGTTTAAACTTATTTTTAAAGAGATTAAGGATAATATTTTTATT...TTG'), id='OQ672420.1', name='OQ672420', description='Plasmodium falciparum isolate CZS_03 chloroquine resistance transporter (crt) gene, partial cds', dbxrefs=[]),\n",
       " SeqRecord(seq=Seq('TGTGCTCATGTGTTTAAACTTATTTTTAAAGAGATTAAGGATAATATTTTTATT...TTG'), id='OQ672419.1', name='OQ672419', description='Plasmodium falciparum isolate CZS_02 chloroquine resistance transporter (crt) gene, partial cds', dbxrefs=[]),\n",
       " SeqRecord(seq=Seq('TGTGCTCATGTGTTTAAACTTATTTTTAAAGAGATTAAGGATAATATTTTTATT...TTG'), id='OQ672418.1', name='OQ672418', description='Plasmodium falciparum isolate CZS_01 chloroquine resistance transporter (crt) gene, partial cds', dbxrefs=[]),\n",
       " SeqRecord(seq=Seq('TGTGCTCATGTGTTTAAACTTATTTTTAAAGAGATTAAGGATAATATTTTTATT...TTG'), id='OQ672417.1', name='OQ672417', description='Plasmodium falciparum isolate GJ_03 chloroquine resistance transporter (crt) gene, partial cds', dbxrefs=[]),\n",
       " SeqRecord(seq=Seq('TGTGCTCATGTGTTTAAACTTATTTTTAAAGAGATTAAGGATAATATTTTTATT...TTG'), id='OQ672416.1', name='OQ672416', description='Plasmodium falciparum isolate GJ_02 chloroquine resistance transporter (crt) gene, partial cds', dbxrefs=[]),\n",
       " SeqRecord(seq=Seq('TGTGCTCATGTGTTTAAACTTATTTTTAAAGAGATTAAGGATAATATTTTTATT...TTG'), id='OQ672415.1', name='OQ672415', description='Plasmodium falciparum isolate GJ_01 chloroquine resistance transporter (crt) gene, partial cds', dbxrefs=[]),\n",
       " SeqRecord(seq=Seq('TGTGCTCATGTGTTTAAACTTATTTTTAAAGAGATTAAGGATAATATTTTTATT...TTG'), id='OQ672414.1', name='OQ672414', description='Plasmodium falciparum isolate MAO_28 chloroquine resistance transporter (crt) gene, partial cds', dbxrefs=[]),\n",
       " SeqRecord(seq=Seq('TGTGCTCATGTGTTTAAACTTATTTTTAAAGAGATTAAGGATAATATTTTTATT...TTG'), id='OQ672413.1', name='OQ672413', description='Plasmodium falciparum isolate MAO_27 chloroquine resistance transporter (crt) gene, partial cds', dbxrefs=[]),\n",
       " SeqRecord(seq=Seq('TGTGCTCATGTGTTTAAACTTATTTTTAAAGAGATTAAGGATAATATTTTTATT...TTG'), id='OQ672412.1', name='OQ672412', description='Plasmodium falciparum isolate MAO_26 chloroquine resistance transporter (crt) gene, partial cds', dbxrefs=[])]"
      ]
     },
     "execution_count": 10,
     "metadata": {},
     "output_type": "execute_result"
    }
   ],
   "source": [
    "recs"
   ]
  },
  {
   "cell_type": "code",
   "execution_count": 11,
   "metadata": {},
   "outputs": [
    {
     "name": "stdout",
     "output_type": "stream",
     "text": [
      "OQ672412\n",
      "Plasmodium falciparum isolate MAO_26 chloroquine resistance transporter (crt) gene, partial cds\n"
     ]
    }
   ],
   "source": [
    "for rec in recs:\n",
    "    if rec.name == 'KM288867': # try finding CRT gene in 40 records we fetched\n",
    "        break\n",
    "print(rec.name)\n",
    "print(rec.description)"
   ]
  },
  {
   "cell_type": "code",
   "execution_count": 12,
   "metadata": {},
   "outputs": [
    {
     "data": {
      "text/plain": [
       "'TGTGCTCATGTGTTTAAACTTATTTTTAAAGAGATTAAGGATAATATTTTTATTTATATTTTAAGTATTATTTATTTAAGTGTATCTGTAATGAATACAATTTTTGCTAAAAGAACTTTAAACAAAATTGGTAACTATAGTTTTG'"
      ]
     },
     "execution_count": 12,
     "metadata": {},
     "output_type": "execute_result"
    }
   ],
   "source": [
    "str(rec.seq)"
   ]
  },
  {
   "attachments": {},
   "cell_type": "markdown",
   "metadata": {},
   "source": [
    "## Summary: In this tutorial, we retrieve sequence information of the chloroquine resistance transporter (CRT) gene (KM288867) in Plasmodium falciparum on the nucleotide database using Entrez."
   ]
  },
  {
   "attachments": {},
   "cell_type": "markdown",
   "metadata": {},
   "source": [
    "# Finish!"
   ]
  }
 ],
 "metadata": {
  "kernelspec": {
   "display_name": "bioinformatics_base",
   "language": "python",
   "name": "python3"
  },
  "language_info": {
   "codemirror_mode": {
    "name": "ipython",
    "version": 3
   },
   "file_extension": ".py",
   "mimetype": "text/x-python",
   "name": "python",
   "nbconvert_exporter": "python",
   "pygments_lexer": "ipython3",
   "version": "3.9.7"
  },
  "orig_nbformat": 4
 },
 "nbformat": 4,
 "nbformat_minor": 2
}
