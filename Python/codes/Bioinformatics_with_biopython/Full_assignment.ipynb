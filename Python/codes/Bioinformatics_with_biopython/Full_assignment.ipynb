{
 "cells": [
  {
   "cell_type": "markdown",
   "metadata": {},
   "source": [
    "# Q1. Write a Biopython code snippet to read a DNA sequence from a FASTA file and print its length."
   ]
  },
  {
   "cell_type": "code",
   "execution_count": null,
   "metadata": {},
   "outputs": [],
   "source": [
    "from Bio import SeqIO\n",
    "fasta_file = 'sequence.fasta'\n",
    "sequence = SeqIO.read(fasta_file, \"fasta\")\n",
    "length = len(sequence)\n",
    "print(f'Sequence length: {length}')"
   ]
  },
  {
   "cell_type": "markdown",
   "metadata": {},
   "source": [
    "# Q2. Write a Biopython code snippet to reverse complement a DNA sequence."
   ]
  },
  {
   "cell_type": "code",
   "execution_count": 3,
   "metadata": {},
   "outputs": [
    {
     "name": "stdout",
     "output_type": "stream",
     "text": [
      "Reversed complement: AGGTAGCTGGCAT\n"
     ]
    }
   ],
   "source": [
    "from Bio.Seq import Seq\n",
    "sequence = Seq(\"ATGCCAGCTACCT\")\n",
    "reversed_seq = sequence.reverse_complement()\n",
    "print(f'Reversed complement: {reversed_seq}')"
   ]
  },
  {
   "cell_type": "markdown",
   "metadata": {},
   "source": [
    "# Q3. Write a Biopython code snippet to calculate the GC content of a DNA sequence."
   ]
  },
  {
   "cell_type": "code",
   "execution_count": 4,
   "metadata": {},
   "outputs": [
    {
     "name": "stdout",
     "output_type": "stream",
     "text": [
      "GC content: 53.84615384615385\n"
     ]
    }
   ],
   "source": [
    "from Bio.SeqUtils import GC\n",
    "sequence = \"ATGCCAGCTACCT\"\n",
    "gc_content = GC(sequence)\n",
    "print(f'GC content: {gc_content}')"
   ]
  },
  {
   "cell_type": "markdown",
   "metadata": {},
   "source": [
    "# Q4. Write a Biopython code snippet to perform a BLAST search against the NCBI database using a query sequence."
   ]
  },
  {
   "cell_type": "code",
   "execution_count": 7,
   "metadata": {},
   "outputs": [],
   "source": [
    "from Bio.Blast import NCBIWWW\n",
    "sequence = \"ATGCCAGCTACCT\"\n",
    "result_handle = NCBIWWW.qblast(\"blastn\", \"nt\", sequence)"
   ]
  },
  {
   "cell_type": "markdown",
   "metadata": {},
   "source": [
    "# Q5. Write a Biopython code snippet to parse a PDB file and extract the amino acid sequence."
   ]
  },
  {
   "cell_type": "code",
   "execution_count": null,
   "metadata": {},
   "outputs": [],
   "source": [
    "from Bio.PDB import PDBParser\n",
    "pdb_file = \"protein.pdb\"\n",
    "parser = PDBParser()\n",
    "structure = parser.get_structure(\"protein\", pdb_file)\n",
    "model = structure[0]\n",
    "chain = model[\"A\"]\n",
    "amino_acids = [residue.get_resname() for residue in chain]"
   ]
  },
  {
   "cell_type": "markdown",
   "metadata": {},
   "source": [
    "# Q6. Write a Biopython code snippet to calculate the molecular weight of a protein sequence."
   ]
  },
  {
   "cell_type": "code",
   "execution_count": 10,
   "metadata": {},
   "outputs": [
    {
     "name": "stdout",
     "output_type": "stream",
     "text": [
      "Molecular weight: 1706.8345000000002\n"
     ]
    }
   ],
   "source": [
    "from Bio.SeqUtils.ProtParam import ProteinAnalysis\n",
    "protein = ProteinAnalysis(\"MATVDEERPKHHEQ\")\n",
    "mol_wt = protein.molecular_weight()\n",
    "print(f'Molecular weight: {mol_wt}')"
   ]
  },
  {
   "cell_type": "markdown",
   "metadata": {},
   "source": [
    "# Q7. Write a Biopython code snippet to retrieve the DNA sequence of a gene from the GenBank database using its accession number."
   ]
  },
  {
   "cell_type": "code",
   "execution_count": 13,
   "metadata": {},
   "outputs": [
    {
     "data": {
      "text/plain": [
       "Seq('ATGGCTTTTTCATCACCGTCTGACTTCAAGAGATACCATGTCTTTTCGAGTTTC...TGA')"
      ]
     },
     "execution_count": 13,
     "metadata": {},
     "output_type": "execute_result"
    }
   ],
   "source": [
    "from Bio import Entrez, SeqIO\n",
    "accession_number = \"NM_123456\"\n",
    "Entrez.email = \"debnathk1997@gmail.com\"\n",
    "handle = Entrez.efetch(db=\"nucleotide\", id=accession_number, rettype=\"fasta\")\n",
    "record = SeqIO.read(handle, \"fasta\")\n",
    "record.seq"
   ]
  },
  {
   "cell_type": "markdown",
   "metadata": {},
   "source": [
    "# Q8. Write a Biopython code snippet to perform a multiple sequence alignment (MSA) using the ClustalW algorithm."
   ]
  },
  {
   "cell_type": "code",
   "execution_count": null,
   "metadata": {},
   "outputs": [],
   "source": [
    "from Bio.Align.Applications import ClustalwCommandline\n",
    "\n",
    "input_file = \"sequence.fasta\"\n",
    "output_file = \"alignment.aln\"\n",
    "clustalw_cline = ClustalwCommandline(\"clustalw2\", infile=input_file, outfile=output_file)\n",
    "clustalw_cline()"
   ]
  },
  {
   "cell_type": "markdown",
   "metadata": {},
   "source": [
    "# Q9. Write a Biopython code snippet to parse a phylogenetic tree from a Newick format file and visualize it."
   ]
  },
  {
   "cell_type": "code",
   "execution_count": null,
   "metadata": {},
   "outputs": [],
   "source": [
    "from Bio import Phylo\n",
    "tree_file  = \"file.newick\"\n",
    "tree = Phylo.read(tree_file, \"newick\")\n",
    "Phylo.draw(tree)"
   ]
  },
  {
   "cell_type": "markdown",
   "metadata": {},
   "source": [
    "# Q10. Write a Biopython code snippet to retrieve a protein sequence from the NCBI database using its GI number."
   ]
  },
  {
   "cell_type": "code",
   "execution_count": null,
   "metadata": {},
   "outputs": [],
   "source": [
    "from Bio import Entrez, SeqIO\n",
    "gi_number = \"123456\"\n",
    "Entrez.email = \"debnathk1997@gmail.com\"\n",
    "handle = Entrez.efetch(db=\"protein\", id=gi_number, rettype=\"fasta\")\n",
    "record = SeqIO.read(handle, \"fasta\")\n",
    "sequence = record.seq"
   ]
  },
  {
   "cell_type": "markdown",
   "metadata": {},
   "source": [
    "# Q11. Write a Python function that takes a DNA sequence as input and returns the reverse complement sequence using Biopython."
   ]
  },
  {
   "cell_type": "code",
   "execution_count": 1,
   "metadata": {},
   "outputs": [
    {
     "name": "stdout",
     "output_type": "stream",
     "text": [
      "DNA: ATTCCAGCTAAGTTCAAG\n",
      "Reverse Complement: CTTGAACTTAGCTGGAAT\n"
     ]
    }
   ],
   "source": [
    "from Bio.Seq import Seq\n",
    "\n",
    "def reverse_complement(seq):\n",
    "    rev_seq = seq.reverse_complement()\n",
    "    return rev_seq\n",
    "\n",
    "if __name__ == \"__main__\":\n",
    "    seq = Seq(\"ATTCCAGCTAAGTTCAAG\")\n",
    "    rev_seq = reverse_complement(seq)\n",
    "    print(f'DNA: {seq}')\n",
    "    print(f'Reverse Complement: {rev_seq}')"
   ]
  },
  {
   "cell_type": "markdown",
   "metadata": {},
   "source": [
    "# Q12. Write a Python function that reads a FASTA file containing multiple DNA sequences, calculates the GC content for each sequence, and returns the sequence with the highest GC content."
   ]
  },
  {
   "cell_type": "code",
   "execution_count": 18,
   "metadata": {},
   "outputs": [
    {
     "name": "stdout",
     "output_type": "stream",
     "text": [
      "The sequence with highest GC content is: CGTAACAAGGTTTCCGTAGGTGAACCTGCGGAAGGATCATTGATGAGACCGTGGAATAAACGATCGAGTGAATCCGGAGGACCGGTGTACTCAGCTCACCGGGGGCATTGCTCCCGTGGTGACCCTGATTTGTTGTTGGGCCGCCTCGGGAGCGTCCATGGCGGGTTTGAACCTCTAGCCCGGCGCAGTTTGGGCGCCAAGCCATATGAAAGCATCACCGGCGAATGGCATTGTCTTCCCCAAAACCCGGAGCGGCGGCGTGCTGTCGCGTGCCCAATGAATTTTGATGACTCTCGCAAACGGGAATCTTGGCTCTTTGCATCGGATGGAAGGACGCAGCGAAATGCGATAAGTGGTGTGAATTGCAAGATCCCGTGAACCATCGAGTCTTTTGAACGCAAGTTGCGCCCGAGGCCATCAGGCTAAGGGCACGCCTGCTTGGGCGTCGCGCTTCGTCTCTCTCCTGCCAATGCTTGCCCGGCATACAGCCAGGCCGGCGTGGTGCGGATGTGAAAGATTGGCCCCTTGTGCCTAGGTGCGGCGGGTCCAAGAGCTGGTGTTTTGATGGCCCGGAACCCGGCAAGAGGTGGACGGATGCTGGCAGCAGCTGCCGTGCGAATCCCCCATGTTGTCGTGCTTGTCGGACAGGCAGGAGAACCCTTCCGAACCCCAATGGAGGGCGGTTGACCGCCATTCGGATGTGACCCCAGGTCAGGCGGGGGCACCCGCTGAGTTTACGC, with GC content: 59.5945945945946%\n"
     ]
    }
   ],
   "source": [
    "from Bio import SeqIO\n",
    "from Bio.SeqUtils import GC\n",
    "\n",
    "def highest_GC(fasta_file):\n",
    "   max_gc_seq = \"\"\n",
    "   max_gc = 0.0\n",
    "\n",
    "   for record in SeqIO.parse(fasta_file, \"fasta\"):\n",
    "    gc_seq = GC(record.seq)\n",
    "    if gc_seq > max_gc:\n",
    "       max_gc = gc_seq\n",
    "       max_gc_seq = record\n",
    "    \n",
    "    return max_gc_seq, max_gc\n",
    "\n",
    "if __name__ == \"__main__\":\n",
    "    fasta_file = \"ls_orchid.fasta\"\n",
    "    max_gc_seq, max_gc = highest_GC(fasta_file)\n",
    "    print(f\"The sequence with highest GC content is: {max_gc_seq.seq}, with GC content: {max_gc}%\")"
   ]
  },
  {
   "cell_type": "markdown",
   "metadata": {},
   "source": [
    "# Q13. Write a Python function that performs a BLAST search for a given DNA sequence against the NCBI nucleotide database using Biopython. The function should return a list of hit descriptions.\n"
   ]
  },
  {
   "cell_type": "code",
   "execution_count": 27,
   "metadata": {},
   "outputs": [
    {
     "name": "stdout",
     "output_type": "stream",
     "text": [
      "Program: blastn (2.14.1+)\n",
      "  Query: No (740)\n",
      "         definition line\n",
      " Target: nt\n",
      "   Hits: ----  -----  ----------------------------------------------------------\n",
      "            #  # HSP  ID + description\n",
      "         ----  -----  ----------------------------------------------------------\n",
      "            0      1  gi|2765658|emb|Z78533.1|  C.irapeanum 5.8S rRNA gene an...\n",
      "            1      1  gi|751868575|gb|KJ939539.1|  Cypripedium irapeanum vouc...\n",
      "            2      1  gi|347626748|emb|FR720328.1|  Cypripedium irapeanum ITS...\n",
      "            3      1  gi|347626747|emb|FR720327.1|  Cypripedium molle ITS1, 5...\n",
      "            4      1  gi|751868574|gb|KJ939538.1|  Cypripedium dickinsonianum...\n",
      "            5      1  gi|402502938|gb|JQ660885.1|  Cypripedium dickinsonianum...\n",
      "            6      1  gi|2765653|emb|Z78528.1|  C.plectrochilum 5.8S rRNA gen...\n",
      "            7      1  gi|340742827|gb|JN018077.1|  Cypripedium plectrochilum ...\n",
      "            8      1  gi|350999033|gb|JF796899.1|  Cypripedium arietinum inte...\n",
      "            9      1  gi|380005818|gb|JQ004993.1|  Cypripedium plectrochilum ...\n",
      "           10      1  gi|2765656|emb|Z78531.1|  C.fasciculatum 5.8S rRNA gene...\n",
      "           11      1  gi|751868570|gb|KJ939534.1|  Cypripedium subtropicum vo...\n",
      "           12      1  gi|350999061|gb|JF796927.1|  Cypripedium fasciculatum i...\n",
      "           13      1  gi|350999058|gb|JF796924.1|  Cypripedium wardii interna...\n",
      "           14      1  gi|2765645|emb|Z78520.1|  C.segawai 5.8S rRNA gene and ...\n",
      "           15      1  gi|1382343100|gb|MH250186.1|  Cypripedium calceolus iso...\n",
      "           16      1  gi|1434743038|gb|MF543769.1|  Cypripedium calceolus vou...\n",
      "           17      1  gi|751868566|gb|KJ939530.1|  Cypripedium macranthos vou...\n",
      "           18      1  gi|1382343101|gb|MH250187.1|  Cypripedium calceolus iso...\n",
      "           19      1  gi|1434743037|gb|MF543768.1|  Cypripedium calceolus vou...\n",
      "           20      1  gi|751868569|gb|KJ939533.1|  Cypripedium farreri vouche...\n",
      "           21      1  gi|49425161|gb|AY557232.1|  Cypripedium calceolus 18S r...\n",
      "           22      1  gi|1382343099|gb|MH250185.1|  Cypripedium calceolus iso...\n",
      "           23      1  gi|1434743039|gb|MF543770.1|  Cypripedium calceolus vou...\n",
      "           24      1  gi|1434743036|gb|MF543767.1|  Cypripedium calceolus vou...\n",
      "           25      1  gi|751868571|gb|KJ939535.1|  Cypripedium tibeticum vouc...\n",
      "           26      1  gi|350999051|gb|JF796917.1|  Cypripedium reginae f. alb...\n",
      "           27      1  gi|751868568|gb|KJ939532.1|  Cypripedium calcicola vouc...\n",
      "           28      1  gi|751868572|gb|KJ939536.1|  Cypripedium franchetii vou...\n",
      "           29      1  gi|340742828|gb|JN018078.1|  Cypripedium calcicola 18S ...\n",
      "           ~~~\n",
      "           47      1  gi|2030163943|gb|MZ044298.1|  Cypripedium calceolus iso...\n",
      "           48      1  gi|2030163942|gb|MZ044297.1|  Cypripedium calceolus iso...\n",
      "           49      1  gi|2030163936|gb|MZ044291.1|  Cypripedium calceolus iso...\n"
     ]
    }
   ],
   "source": [
    "from Bio.Blast import NCBIWWW\n",
    "from Bio import SearchIO, SeqIO\n",
    "\n",
    "def dna_blast(dna_seq):\n",
    "\n",
    "    result_handle = NCBIWWW.qblast(\"blastn\", \"nt\", dna_seq)\n",
    "    hit_desc = SearchIO.read(result_handle, \"blast-xml\")\n",
    "\n",
    "    return hit_desc\n",
    "\n",
    "if __name__ == \"__main__\":\n",
    "    fasta_file = [rec for rec in SeqIO.parse(\"ls_orchid.fasta\", \"fasta\")]\n",
    "    dna = fasta_file[0]\n",
    "    dna_seq = dna.seq\n",
    "    hit_desc = dna_blast(dna_seq)\n",
    "    print(hit_desc)"
   ]
  },
  {
   "cell_type": "markdown",
   "metadata": {},
   "source": [
    "# Q14. Write a function to perform global alignment of two DNA sequences."
   ]
  },
  {
   "cell_type": "code",
   "execution_count": 52,
   "metadata": {},
   "outputs": [
    {
     "name": "stdout",
     "output_type": "stream",
     "text": [
      "-ATGACACGTACGTACGT---A-CGTACGTACGTACGTATG\n",
      " | |||||||||||||||   | |||||||||||||  |  \n",
      "CA-GACACGTACGTACGTTTGAACGTACGTACGTAC--A--\n",
      "  Score=31\n",
      "\n",
      "-ATGACACGTACGTACG-T--A-CGTACGTACGTACGTATG\n",
      " | |||||||||||||| |  | |||||||||||||  |  \n",
      "CA-GACACGTACGTACGTTTGAACGTACGTACGTAC--A--\n",
      "  Score=31\n",
      "\n",
      "-ATGACACGTACGTACG--T-A-CGTACGTACGTACGTATG\n",
      " | ||||||||||||||  | | |||||||||||||  |  \n",
      "CA-GACACGTACGTACGTTTGAACGTACGTACGTAC--A--\n",
      "  Score=31\n",
      "\n",
      "-ATGACACGTACGTACGT----ACGTACGTACGTACGTATG\n",
      " | |||||||||||||||    ||||||||||||||  |  \n",
      "CA-GACACGTACGTACGTTTGAACGTACGTACGTAC--A--\n",
      "  Score=31\n",
      "\n",
      "-ATGACACGTACGTACG-T---ACGTACGTACGTACGTATG\n",
      " | |||||||||||||| |   ||||||||||||||  |  \n",
      "CA-GACACGTACGTACGTTTGAACGTACGTACGTAC--A--\n",
      "  Score=31\n",
      "\n",
      "-ATGACACGTACGTACG--T--ACGTACGTACGTACGTATG\n",
      " | ||||||||||||||  |  ||||||||||||||  |  \n",
      "CA-GACACGTACGTACGTTTGAACGTACGTACGTAC--A--\n",
      "  Score=31\n",
      "\n"
     ]
    }
   ],
   "source": [
    "from Bio import pairwise2\n",
    "\n",
    "def align_sequences(seq1, seq2):\n",
    "\n",
    "    alns = pairwise2.align.globalxx(seq1, seq2)\n",
    "    for aln in alns:\n",
    "        print(pairwise2.format_alignment(*aln))\n",
    "\n",
    "\n",
    "if __name__ == \"__main__\":\n",
    "    align_sequences(\"ATGACACGTACGTACGTACGTACGTACGTACGTATG\", \"CAGACACGTACGTACGTTTGAACGTACGTACGTACA\")"
   ]
  },
  {
   "cell_type": "markdown",
   "metadata": {},
   "source": [
    "# Q15. Write a Python function that reads a GenBank file and extracts the coding sequence (CDS).\n"
   ]
  },
  {
   "cell_type": "code",
   "execution_count": 44,
   "metadata": {},
   "outputs": [
    {
     "name": "stdout",
     "output_type": "stream",
     "text": [
      "ATGTCTCAAGGTAATCTTTATATTTTATCTGCACCAAGTGGCGCAGGAAAATCTTCATTAATTTCAGCGTTATTGGCATCAGATAGCTCAACTCAAAAAATGGTTTCTGTGTCACATACGACCCGTGCCCCACGCCCGGGTGAAGTTGAAGGCGTACACTATTATTTTGTATCAAAAGAAGAGTTTGAATCACTCATTGAGCAAGATTTATTTCTAGAATATGCCAAAGTTTTTGGTGGCAATTATTATGGAACCTCTTTACCTGCGATTGAGGAAAATTTAGCAAAAGGCATTGATGTATTTTTAGATATTGATTGGCAGGGCGCCCAACAAATCCGTAAAAAAGTGCCTTCAGTAAAAAGCATTTTTATTTTACCGCCTTCATTGCCTGAATTAGAGCGTCGTTTAATTGGTCGAGGGCAAGATAGTGAAGAGGTTATCGCTGAACGAATGTCAAAAGCGATGAGTGAAATTTCGCATTATGACGAATATGATTATGTCATTGTGAATGATGATTTTGAGAAAACATTAAAAGATTTACAAAGTATTTTGCAATCGGAACGCTTAACTAAAGATTATCAACAAAAACAAAATGCAATGTTAATTCAACAGCTACTAGCAAAATAG\n"
     ]
    }
   ],
   "source": [
    "from Bio import SeqIO\n",
    "\n",
    "def extract_cds(genbank_file):\n",
    "\n",
    "    with open(genbank_file, \"r\") as f:\n",
    "        genbank_record = SeqIO.read(f, \"genbank\")\n",
    "\n",
    "    cds_seqs = \"\"\n",
    "    for feature in genbank_record.features:\n",
    "        if feature.type == \"CDS\":\n",
    "            cds_seqs = feature.extract(genbank_record.seq)\n",
    "\n",
    "    return cds_seqs\n",
    "\n",
    "if __name__ == \"__main__\":\n",
    "    genbank_file = \"sequence.gb\"\n",
    "    cds_seqs = extract_cds(genbank_file)\n",
    "    print(cds_seqs)"
   ]
  }
 ],
 "metadata": {
  "kernelspec": {
   "display_name": "bioinformatics_base",
   "language": "python",
   "name": "python3"
  },
  "language_info": {
   "codemirror_mode": {
    "name": "ipython",
    "version": 3
   },
   "file_extension": ".py",
   "mimetype": "text/x-python",
   "name": "python",
   "nbconvert_exporter": "python",
   "pygments_lexer": "ipython3",
   "version": "3.9.7"
  },
  "orig_nbformat": 4
 },
 "nbformat": 4,
 "nbformat_minor": 2
}
