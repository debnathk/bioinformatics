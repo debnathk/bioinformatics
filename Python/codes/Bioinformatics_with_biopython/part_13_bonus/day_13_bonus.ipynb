{
 "cells": [
  {
   "cell_type": "markdown",
   "metadata": {},
   "source": [
    "# Bonus Exercises"
   ]
  },
  {
   "cell_type": "markdown",
   "metadata": {},
   "source": [
    "## Calculating Melting Temperature"
   ]
  },
  {
   "cell_type": "code",
   "execution_count": 4,
   "metadata": {},
   "outputs": [
    {
     "name": "stdout",
     "output_type": "stream",
     "text": [
      "Melting temperature - 1: 72.0\n",
      "Melting temperature - 2: 55.15489226541517\n",
      "Melting temperature - 3: 56.508016463311264\n"
     ]
    }
   ],
   "source": [
    "from Bio.SeqUtils import MeltingTemp as mt\n",
    "from Bio.Seq import Seq\n",
    "dna = 'TTACGGACTAGCCAATGGACCATG'\n",
    "dna_seq = Seq(dna)\n",
    "print(f'Melting temperature - 1: {mt.Tm_Wallace(dna_seq)}')\n",
    "print(f'Melting temperature - 2: {mt.Tm_GC(dna_seq)}')\n",
    "print(f'Melting temperature - 3: {mt.Tm_NN(dna_seq)}')"
   ]
  },
  {
   "cell_type": "markdown",
   "metadata": {},
   "source": [
    "## Assignment - Extract the coding sequence (CDS) from a GenBank file using Biopython"
   ]
  },
  {
   "cell_type": "markdown",
   "metadata": {},
   "source": [
    "The tutorial for downloading a sample GenBank file can be found [here](http://jonathancrabtree.github.io/Circleator/tutorials/gb_annotation/gb_download.html)."
   ]
  },
  {
   "cell_type": "code",
   "execution_count": 5,
   "metadata": {},
   "outputs": [
    {
     "name": "stdout",
     "output_type": "stream",
     "text": [
      "ATGGCAATTAAAATTGGTATCAATGGTTTTGGTCGTATCGGCCGTATCGTATTCCGTGCAGCACAACACCGTGATGACATTGAAGTTGTAGGTATTAACGACTTAATCGACGTTGAATACATGGCTTATATGTTGAAATATGATTCAACTCACGGTCGTTTCGACGGCACTGTTGAAGTGAAAGATGGTAACTTAGTGGTTAATGGTAAAACTATCCGTGTAACTGCAGAACGTGATCCAGCAAACTTAAACTGGGGTGCAATCGGTGTTGATATCGCTGTTGAAGCGACTGGTTTATTCTTAACTGATGAAACTGCTCGTAAACATATCACTGCAGGCGCAAAAAAAGTTGTATTAACTGGCCCATCTAAAGATGCAACCCCTATGTTCGTTCGTGGTGTAAACTTCAACGCATACGCAGGTCAAGATATCGTTTCTAACGCATCTTGTACAACAAACTGTTTAGCTCCTTTAGCACGTGTTGTTCATGAAACTTTCGGTATCAAAGATGGTTTAATGACCACTGTTCACGCAACGACTGCAACTCAAAAAACTGTGGATGGTCCATCAGCTAAAGACTGGCGCGGCGGCCGCGGTGCATCACAAAACATCATTCCATCTTCAACAGGTGCAGCGAAAGCAGTAGGTAAAGTATTACCTGCATTAAACGGTAAATTAACTGGTATGGCTTTCCGTGTTCCAACGCCAAACGTATCTGTTGTTGATTTAACAGTTAATCTTGAAAAACCAGCTTCTTATGATGCAATCAAACAAGCAATCAAAGATGCAGCGGAAGGTAAAACGTTCAATGGCGAATTAAAAGGCGTATTAGGTTACACTGAAGATGCTGTTGTTTCTACTGACTTCAACGGTTGTGCTTTAACTTCTGTATTTGATGCAGACGCTGGTATCGCATTAACTGATTCTTTCGTTAAATTGGTATCTTGGTACGATAACGAAACGGGTTACTCAAACAAAGTATTAGACTTAGTAGCTCATATCTACAACTACAAAGGCTAA\n"
     ]
    }
   ],
   "source": [
    "from Bio import SeqIO\n",
    "\n",
    "def extract_cds(genbank_file):\n",
    "  \n",
    "  with open(genbank_file, \"r\") as f:\n",
    "    genbank_record = SeqIO.read(f, \"genbank\")\n",
    "\n",
    "  cds_seq = \"\"\n",
    "  for feature in genbank_record.features:\n",
    "    if feature.type == \"CDS\":\n",
    "      cds_seq = feature.extract(genbank_record.seq)\n",
    "      break\n",
    "\n",
    "  return cds_seq\n",
    "\n",
    "if __name__ == \"__main__\":\n",
    "  genbank_file = \"sequence.gb\"\n",
    "  cds_seq = extract_cds(genbank_file)\n",
    "  print(cds_seq)"
   ]
  }
 ],
 "metadata": {
  "kernelspec": {
   "display_name": "bioinformatics_base",
   "language": "python",
   "name": "python3"
  },
  "language_info": {
   "codemirror_mode": {
    "name": "ipython",
    "version": 3
   },
   "file_extension": ".py",
   "mimetype": "text/x-python",
   "name": "python",
   "nbconvert_exporter": "python",
   "pygments_lexer": "ipython3",
   "version": "3.9.7"
  },
  "orig_nbformat": 4
 },
 "nbformat": 4,
 "nbformat_minor": 2
}
