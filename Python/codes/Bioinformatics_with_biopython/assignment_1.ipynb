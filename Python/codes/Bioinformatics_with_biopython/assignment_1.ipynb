{
 "cells": [
  {
   "cell_type": "markdown",
   "metadata": {},
   "source": [
    "# Q1. Write a Biopython code snippet to read a DNA sequence from a FASTA file and print its length."
   ]
  },
  {
   "cell_type": "code",
   "execution_count": null,
   "metadata": {},
   "outputs": [],
   "source": [
    "from Bio import SeqIO\n",
    "fasta_file = 'sequence.fasta'\n",
    "sequence = SeqIO.read(fasta_file, \"fasta\")\n",
    "length = len(sequence)\n",
    "print(f'Sequence length: {length}')"
   ]
  },
  {
   "cell_type": "markdown",
   "metadata": {},
   "source": [
    "# Q2. Write a Biopython code snippet to reverse complement a DNA sequence."
   ]
  },
  {
   "cell_type": "code",
   "execution_count": 3,
   "metadata": {},
   "outputs": [
    {
     "name": "stdout",
     "output_type": "stream",
     "text": [
      "Reversed complement: AGGTAGCTGGCAT\n"
     ]
    }
   ],
   "source": [
    "from Bio.Seq import Seq\n",
    "sequence = Seq(\"ATGCCAGCTACCT\")\n",
    "reversed_seq = sequence.reverse_complement()\n",
    "print(f'Reversed complement: {reversed_seq}')"
   ]
  },
  {
   "cell_type": "markdown",
   "metadata": {},
   "source": [
    "# Q3. Write a Biopython code snippet to calculate the GC content of a DNA sequence."
   ]
  },
  {
   "cell_type": "code",
   "execution_count": 4,
   "metadata": {},
   "outputs": [
    {
     "name": "stdout",
     "output_type": "stream",
     "text": [
      "GC content: 53.84615384615385\n"
     ]
    }
   ],
   "source": [
    "from Bio.SeqUtils import GC\n",
    "sequence = \"ATGCCAGCTACCT\"\n",
    "gc_content = GC(sequence)\n",
    "print(f'GC content: {gc_content}')"
   ]
  },
  {
   "cell_type": "markdown",
   "metadata": {},
   "source": [
    "# Q4. Write a Biopython code snippet to perform a BLAST search against the NCBI database using a query sequence."
   ]
  },
  {
   "cell_type": "code",
   "execution_count": 7,
   "metadata": {},
   "outputs": [],
   "source": [
    "from Bio.Blast import NCBIWWW\n",
    "sequence = \"ATGCCAGCTACCT\"\n",
    "result_handle = NCBIWWW.qblast(\"blastn\", \"nt\", sequence)"
   ]
  },
  {
   "cell_type": "markdown",
   "metadata": {},
   "source": [
    "# Q5. Write a Biopython code snippet to parse a PDB file and extract the amino acid sequence."
   ]
  },
  {
   "cell_type": "code",
   "execution_count": null,
   "metadata": {},
   "outputs": [],
   "source": [
    "from Bio.PDB import PDBParser\n",
    "pdb_file = \"protein.pdb\"\n",
    "parser = PDBParser()\n",
    "structure = parser.get_structure(\"protein\", pdb_file)\n",
    "model = structure[0]\n",
    "chain = model[\"A\"]\n",
    "amino_acids = [residue.get_resname() for residue in chain]"
   ]
  },
  {
   "cell_type": "markdown",
   "metadata": {},
   "source": [
    "# Q6. Write a Biopython code snippet to calculate the molecular weight of a protein sequence."
   ]
  },
  {
   "cell_type": "code",
   "execution_count": null,
   "metadata": {},
   "outputs": [],
   "source": []
  },
  {
   "cell_type": "markdown",
   "metadata": {},
   "source": [
    "# Q7. Write a Biopython code snippet to retrieve the DNA sequence of a gene from the GenBank database using its accession number."
   ]
  },
  {
   "cell_type": "code",
   "execution_count": null,
   "metadata": {},
   "outputs": [],
   "source": []
  },
  {
   "cell_type": "markdown",
   "metadata": {},
   "source": [
    "# Q8. Write a Biopython code snippet to perform a multiple sequence alignment (MSA) using the ClustalW algorithm."
   ]
  },
  {
   "cell_type": "code",
   "execution_count": null,
   "metadata": {},
   "outputs": [],
   "source": []
  },
  {
   "cell_type": "markdown",
   "metadata": {},
   "source": [
    "# Q9. Write a Biopython code snippet to parse a phylogenetic tree from a Newick format file and visualize it."
   ]
  },
  {
   "cell_type": "code",
   "execution_count": null,
   "metadata": {},
   "outputs": [],
   "source": []
  },
  {
   "cell_type": "markdown",
   "metadata": {},
   "source": [
    "# Q10. Write a Biopython code snippet to retrieve a protein sequence from the NCBI database using its GI number."
   ]
  },
  {
   "cell_type": "code",
   "execution_count": null,
   "metadata": {},
   "outputs": [],
   "source": []
  }
 ],
 "metadata": {
  "kernelspec": {
   "display_name": "bioinformatics_base",
   "language": "python",
   "name": "python3"
  },
  "language_info": {
   "codemirror_mode": {
    "name": "ipython",
    "version": 3
   },
   "file_extension": ".py",
   "mimetype": "text/x-python",
   "name": "python",
   "nbconvert_exporter": "python",
   "pygments_lexer": "ipython3",
   "version": "3.9.7"
  },
  "orig_nbformat": 4
 },
 "nbformat": 4,
 "nbformat_minor": 2
}
