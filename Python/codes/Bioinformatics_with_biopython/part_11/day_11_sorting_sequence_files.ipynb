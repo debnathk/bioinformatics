{
 "cells": [
  {
   "cell_type": "markdown",
   "metadata": {},
   "source": [
    "# Sorting a sequence file (FASTA or FASTQ file)"
   ]
  },
  {
   "cell_type": "markdown",
   "metadata": {},
   "source": [
    "## Context:\n",
    "- Here, we sort the sequence reads from a sequence file."
   ]
  },
  {
   "cell_type": "markdown",
   "metadata": {},
   "source": [
    "### Get Data"
   ]
  },
  {
   "cell_type": "markdown",
   "metadata": {},
   "source": [
    "Download the Orcide genome data."
   ]
  },
  {
   "cell_type": "code",
   "execution_count": 2,
   "metadata": {},
   "outputs": [
    {
     "name": "stderr",
     "output_type": "stream",
     "text": [
      "--2023-07-14 01:33:17--  https://raw.githubusercontent.com/biopython/biopython/master/Doc/examples/ls_orchid.fasta\n",
      "Resolving raw.githubusercontent.com (raw.githubusercontent.com)... 185.199.109.133, 185.199.111.133, 185.199.110.133, ...\n",
      "Connecting to raw.githubusercontent.com (raw.githubusercontent.com)|185.199.109.133|:443... connected.\n",
      "WARNING: cannot verify raw.githubusercontent.com's certificate, issued by 'CN=DigiCert TLS RSA SHA256 2020 CA1,O=DigiCert Inc,C=US':\n",
      "  Unable to locally verify the issuer's authority.\n",
      "HTTP request sent, awaiting response... 200 OK\n",
      "Length: 76480 (75K) [text/plain]\n",
      "Saving to: 'ls_orchid.fasta'\n",
      "\n",
      "     0K .......... .......... .......... .......... .......... 66% 12.5K 2s\n",
      "    50K .......... .......... ....                            100% 12.8M=4.0s\n",
      "\n",
      "2023-07-14 01:33:23 (18.7 KB/s) - 'ls_orchid.fasta' saved [76480/76480]\n",
      "\n"
     ]
    }
   ],
   "source": [
    "!wget https://raw.githubusercontent.com/biopython/biopython/master/Doc/examples/ls_orchid.fasta --no-check-certificate"
   ]
  },
  {
   "cell_type": "code",
   "execution_count": 3,
   "metadata": {},
   "outputs": [
    {
     "name": "stdout",
     "output_type": "stream",
     "text": [
      "740\n",
      "753\n",
      "748\n",
      "744\n",
      "733\n",
      "718\n",
      "730\n",
      "704\n",
      "740\n",
      "709\n",
      "700\n",
      "726\n",
      "753\n",
      "699\n",
      "658\n",
      "752\n",
      "726\n",
      "765\n",
      "755\n",
      "742\n",
      "762\n",
      "745\n",
      "750\n",
      "731\n",
      "741\n",
      "740\n",
      "727\n",
      "711\n",
      "743\n",
      "727\n",
      "757\n",
      "770\n",
      "767\n",
      "759\n",
      "750\n",
      "788\n",
      "774\n",
      "789\n",
      "688\n",
      "719\n",
      "743\n",
      "737\n",
      "728\n",
      "740\n",
      "696\n",
      "732\n",
      "731\n",
      "735\n",
      "720\n",
      "740\n",
      "629\n",
      "572\n",
      "587\n",
      "700\n",
      "636\n",
      "716\n",
      "592\n",
      "716\n",
      "733\n",
      "626\n",
      "737\n",
      "740\n",
      "574\n",
      "594\n",
      "610\n",
      "730\n",
      "641\n",
      "702\n",
      "733\n",
      "738\n",
      "736\n",
      "732\n",
      "745\n",
      "744\n",
      "738\n",
      "739\n",
      "740\n",
      "745\n",
      "695\n",
      "745\n",
      "743\n",
      "730\n",
      "706\n",
      "744\n",
      "742\n",
      "694\n",
      "712\n",
      "715\n",
      "688\n",
      "784\n",
      "721\n",
      "703\n",
      "744\n",
      "592\n"
     ]
    }
   ],
   "source": [
    "from Bio import SeqIO\n",
    "records = list(SeqIO.parse(\"ls_orchid.fasta\", \"fasta\"))\n",
    "for record in records:\n",
    "    print(len(record.seq))"
   ]
  },
  {
   "cell_type": "code",
   "execution_count": 4,
   "metadata": {},
   "outputs": [
    {
     "data": {
      "text/plain": [
       "94"
      ]
     },
     "execution_count": 4,
     "metadata": {},
     "output_type": "execute_result"
    }
   ],
   "source": [
    "records.sort(key=lambda r:len(r)) # sorting the sequences in ascending order\n",
    "SeqIO.write(records, \"sorted_orchids.fasta\", \"fasta\")"
   ]
  },
  {
   "cell_type": "code",
   "execution_count": 11,
   "metadata": {},
   "outputs": [
    {
     "data": {
      "text/plain": [
       "[(572, 'gi|2765606|emb|Z78481.1|PIZ78481'),\n",
       " (574, 'gi|2765595|emb|Z78470.1|PPZ78470'),\n",
       " (587, 'gi|2765605|emb|Z78480.1|PGZ78480'),\n",
       " (592, 'gi|2765601|emb|Z78476.1|PGZ78476'),\n",
       " (592, 'gi|2765564|emb|Z78439.1|PBZ78439'),\n",
       " (594, 'gi|2765594|emb|Z78469.1|PHZ78469'),\n",
       " (610, 'gi|2765593|emb|Z78468.1|PAZ78468'),\n",
       " (626, 'gi|2765598|emb|Z78473.1|PSZ78473'),\n",
       " (629, 'gi|2765607|emb|Z78482.1|PEZ78482'),\n",
       " (636, 'gi|2765603|emb|Z78478.1|PVZ78478'),\n",
       " (641, 'gi|2765591|emb|Z78466.1|PPZ78466'),\n",
       " (658, 'gi|2765643|emb|Z78518.1|CRZ78518'),\n",
       " (688, 'gi|2765619|emb|Z78494.1|PNZ78494'),\n",
       " (688, 'gi|2765569|emb|Z78444.1|PAZ78444'),\n",
       " (694, 'gi|2765572|emb|Z78447.1|PVZ78447'),\n",
       " (695, 'gi|2765579|emb|Z78454.1|PFZ78454'),\n",
       " (696, 'gi|2765613|emb|Z78488.1|PTZ78488'),\n",
       " (699, 'gi|2765644|emb|Z78519.1|CPZ78519'),\n",
       " (700, 'gi|2765647|emb|Z78522.1|CMZ78522'),\n",
       " (700, 'gi|2765604|emb|Z78479.1|PPZ78479'),\n",
       " (702, 'gi|2765590|emb|Z78465.1|PRZ78465'),\n",
       " (703, 'gi|2765566|emb|Z78441.1|PSZ78441'),\n",
       " (704, 'gi|2765650|emb|Z78525.1|CAZ78525'),\n",
       " (706, 'gi|2765575|emb|Z78450.1|PPZ78450'),\n",
       " (709, 'gi|2765648|emb|Z78523.1|CHZ78523'),\n",
       " (711, 'gi|2765630|emb|Z78505.1|PSZ78505'),\n",
       " (712, 'gi|2765571|emb|Z78446.1|PAZ78446'),\n",
       " (715, 'gi|2765570|emb|Z78445.1|PUZ78445'),\n",
       " (716, 'gi|2765602|emb|Z78477.1|PVZ78477'),\n",
       " (716, 'gi|2765600|emb|Z78475.1|PSZ78475'),\n",
       " (718, 'gi|2765652|emb|Z78527.1|CYZ78527'),\n",
       " (719, 'gi|2765618|emb|Z78493.1|PGZ78493'),\n",
       " (720, 'gi|2765609|emb|Z78484.1|PCZ78484'),\n",
       " (721, 'gi|2765567|emb|Z78442.1|PBZ78442'),\n",
       " (726, 'gi|2765646|emb|Z78521.1|CCZ78521'),\n",
       " (726, 'gi|2765641|emb|Z78516.1|CPZ78516'),\n",
       " (727, 'gi|2765631|emb|Z78506.1|PLZ78506'),\n",
       " (727, 'gi|2765628|emb|Z78503.1|PCZ78503'),\n",
       " (728, 'gi|2765615|emb|Z78490.1|PFZ78490'),\n",
       " (730, 'gi|2765651|emb|Z78526.1|CGZ78526'),\n",
       " (730, 'gi|2765592|emb|Z78467.1|PSZ78467'),\n",
       " (730, 'gi|2765576|emb|Z78451.1|PHZ78451'),\n",
       " (731, 'gi|2765634|emb|Z78509.1|PPZ78509'),\n",
       " (731, 'gi|2765611|emb|Z78486.1|PBZ78486'),\n",
       " (732, 'gi|2765612|emb|Z78487.1|PHZ78487'),\n",
       " (732, 'gi|2765586|emb|Z78461.1|PWZ78461'),\n",
       " (733, 'gi|2765654|emb|Z78529.1|CLZ78529'),\n",
       " (733, 'gi|2765599|emb|Z78474.1|PKZ78474'),\n",
       " (733, 'gi|2765589|emb|Z78464.1|PGZ78464'),\n",
       " (735, 'gi|2765610|emb|Z78485.1|PHZ78485'),\n",
       " (736, 'gi|2765587|emb|Z78462.1|PSZ78462'),\n",
       " (737, 'gi|2765616|emb|Z78491.1|PCZ78491'),\n",
       " (737, 'gi|2765597|emb|Z78472.1|PLZ78472'),\n",
       " (738, 'gi|2765588|emb|Z78463.1|PGZ78463'),\n",
       " (738, 'gi|2765583|emb|Z78458.1|PHZ78458'),\n",
       " (739, 'gi|2765582|emb|Z78457.1|PCZ78457'),\n",
       " (740, 'gi|2765658|emb|Z78533.1|CIZ78533'),\n",
       " (740, 'gi|2765649|emb|Z78524.1|CFZ78524'),\n",
       " (740, 'gi|2765632|emb|Z78507.1|PLZ78507'),\n",
       " (740, 'gi|2765614|emb|Z78489.1|PDZ78489'),\n",
       " (740, 'gi|2765608|emb|Z78483.1|PVZ78483'),\n",
       " (740, 'gi|2765596|emb|Z78471.1|PDZ78471'),\n",
       " (740, 'gi|2765581|emb|Z78456.1|PTZ78456'),\n",
       " (741, 'gi|2765633|emb|Z78508.1|PLZ78508'),\n",
       " (742, 'gi|2765638|emb|Z78513.1|PBZ78513'),\n",
       " (742, 'gi|2765573|emb|Z78448.1|PAZ78448'),\n",
       " (743, 'gi|2765629|emb|Z78504.1|PKZ78504'),\n",
       " (743, 'gi|2765617|emb|Z78492.1|PBZ78492'),\n",
       " (743, 'gi|2765577|emb|Z78452.1|PBZ78452'),\n",
       " (744, 'gi|2765655|emb|Z78530.1|CMZ78530'),\n",
       " (744, 'gi|2765584|emb|Z78459.1|PDZ78459'),\n",
       " (744, 'gi|2765574|emb|Z78449.1|PMZ78449'),\n",
       " (744, 'gi|2765565|emb|Z78440.1|PPZ78440'),\n",
       " (745, 'gi|2765636|emb|Z78511.1|PEZ78511'),\n",
       " (745, 'gi|2765585|emb|Z78460.1|PCZ78460'),\n",
       " (745, 'gi|2765580|emb|Z78455.1|PJZ78455'),\n",
       " (745, 'gi|2765578|emb|Z78453.1|PSZ78453'),\n",
       " (748, 'gi|2765656|emb|Z78531.1|CFZ78531'),\n",
       " (750, 'gi|2765635|emb|Z78510.1|PCZ78510'),\n",
       " (750, 'gi|2765623|emb|Z78498.1|PMZ78498'),\n",
       " (752, 'gi|2765642|emb|Z78517.1|CFZ78517'),\n",
       " (753, 'gi|2765657|emb|Z78532.1|CCZ78532'),\n",
       " (753, 'gi|2765645|emb|Z78520.1|CSZ78520'),\n",
       " (755, 'gi|2765639|emb|Z78514.1|PSZ78514'),\n",
       " (757, 'gi|2765627|emb|Z78502.1|PBZ78502'),\n",
       " (759, 'gi|2765624|emb|Z78499.1|PMZ78499'),\n",
       " (762, 'gi|2765637|emb|Z78512.1|PWZ78512'),\n",
       " (765, 'gi|2765640|emb|Z78515.1|MXZ78515'),\n",
       " (767, 'gi|2765625|emb|Z78500.1|PWZ78500'),\n",
       " (770, 'gi|2765626|emb|Z78501.1|PCZ78501'),\n",
       " (774, 'gi|2765621|emb|Z78496.1|PAZ78496'),\n",
       " (784, 'gi|2765568|emb|Z78443.1|PLZ78443'),\n",
       " (788, 'gi|2765622|emb|Z78497.1|PDZ78497'),\n",
       " (789, 'gi|2765620|emb|Z78495.1|PEZ78495')]"
      ]
     },
     "execution_count": 11,
     "metadata": {},
     "output_type": "execute_result"
    }
   ],
   "source": [
    "# Get the lengths and ids, and sort on length\n",
    "len_and_ids = [(len(rec), rec.id) for rec in SeqIO.parse('sorted_orchids.fasta', 'fasta')]\n",
    "len_and_ids"
   ]
  },
  {
   "cell_type": "markdown",
   "metadata": {},
   "source": [
    "## Summary: In this tutorial, we downloaded Orchids genome data and sorted the sequences in ascending order"
   ]
  },
  {
   "cell_type": "markdown",
   "metadata": {},
   "source": [
    "# Finish!"
   ]
  }
 ],
 "metadata": {
  "kernelspec": {
   "display_name": "bioinformatics_base",
   "language": "python",
   "name": "python3"
  },
  "language_info": {
   "codemirror_mode": {
    "name": "ipython",
    "version": 3
   },
   "file_extension": ".py",
   "mimetype": "text/x-python",
   "name": "python",
   "nbconvert_exporter": "python",
   "pygments_lexer": "ipython3",
   "version": "3.9.7"
  },
  "orig_nbformat": 4
 },
 "nbformat": 4,
 "nbformat_minor": 2
}
