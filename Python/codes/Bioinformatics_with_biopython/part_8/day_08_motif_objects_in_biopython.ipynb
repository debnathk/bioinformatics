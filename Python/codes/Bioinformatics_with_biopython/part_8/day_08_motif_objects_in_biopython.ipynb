{
 "cells": [
  {
   "cell_type": "markdown",
   "metadata": {},
   "source": [
    "# Motif Objects in BioPython"
   ]
  },
  {
   "cell_type": "markdown",
   "metadata": {},
   "source": [
    "## Context:\n",
    "- A (sequence) motif is a nucleotide or amino-acid sequence pattern, formed by 3D arrangement of amino acids which may not be adjacent. \n",
    "- Biopython provides a separate module, **Bio.motifs** to access the functionalities of (sequence) motif.\n",
    "- *Consensus Sequence*, defined as the sequence of letters along the positions of the motif for which the largest value in the corresponding columns of the counts matrix is obtained. The opposite is an *Anticonsensus Sequence*\n",
    "- Note: There is some ambiguity in the definition of the consensus and anticonsensus sequence i.e., in some columns multiple nucleotides can have the maximum or minimum count. As a solution, we can create a *Degenerate Consensus Sequence*, in which ambiguous nucleotides (W = A/T, V = A/C/G) are used for positions where there are multiple nucleotides with high counts."
   ]
  },
  {
   "cell_type": "markdown",
   "metadata": {},
   "source": [
    "## Creating a DNA motif"
   ]
  },
  {
   "cell_type": "code",
   "execution_count": 1,
   "metadata": {},
   "outputs": [],
   "source": [
    "from Bio import motifs"
   ]
  },
  {
   "cell_type": "code",
   "execution_count": 2,
   "metadata": {},
   "outputs": [],
   "source": [
    "from Bio.Seq import Seq\n",
    "\n",
    "instances = [\n",
    "    Seq(\"AATTC\"),\n",
    "    Seq(\"ATTCC\"),\n",
    "    Seq(\"AAGTC\"),\n",
    "    Seq(\"ACTGC\"),\n",
    "    Seq(\"CATTG\"),\n",
    "    Seq(\"TAGTC\"),\n",
    "    Seq(\"GATAC\")\n",
    "]"
   ]
  },
  {
   "cell_type": "code",
   "execution_count": 7,
   "metadata": {},
   "outputs": [
    {
     "name": "stdout",
     "output_type": "stream",
     "text": [
      "AATTC\n",
      "ATTCC\n",
      "AAGTC\n",
      "ACTGC\n",
      "CATTG\n",
      "TAGTC\n",
      "GATAC\n",
      "\n"
     ]
    }
   ],
   "source": [
    "m = motifs.create(instances)\n",
    "print(m)"
   ]
  },
  {
   "cell_type": "code",
   "execution_count": 8,
   "metadata": {},
   "outputs": [
    {
     "data": {
      "text/plain": [
       "[Seq('AATTC'),\n",
       " Seq('ATTCC'),\n",
       " Seq('AAGTC'),\n",
       " Seq('ACTGC'),\n",
       " Seq('CATTG'),\n",
       " Seq('TAGTC'),\n",
       " Seq('GATAC')]"
      ]
     },
     "execution_count": 8,
     "metadata": {},
     "output_type": "execute_result"
    }
   ],
   "source": [
    "m.instances # motif instances"
   ]
  },
  {
   "cell_type": "code",
   "execution_count": 9,
   "metadata": {},
   "outputs": [
    {
     "data": {
      "text/plain": [
       "{'A': [4, 5, 0, 1, 0],\n",
       " 'C': [1, 1, 0, 1, 6],\n",
       " 'G': [1, 0, 2, 1, 1],\n",
       " 'T': [1, 1, 5, 4, 0]}"
      ]
     },
     "execution_count": 9,
     "metadata": {},
     "output_type": "execute_result"
    }
   ],
   "source": [
    "m.counts # counting the occurence of nucleotides in each position"
   ]
  },
  {
   "cell_type": "code",
   "execution_count": 10,
   "metadata": {},
   "outputs": [
    {
     "data": {
      "text/plain": [
       "[4, 5, 0, 1, 0]"
      ]
     },
     "execution_count": 10,
     "metadata": {},
     "output_type": "execute_result"
    }
   ],
   "source": [
    "m.counts['A'] # accessing the occurences of a nucleotide"
   ]
  },
  {
   "cell_type": "code",
   "execution_count": 11,
   "metadata": {},
   "outputs": [
    {
     "data": {
      "text/plain": [
       "{'A': 1, 'C': 1, 'G': 1, 'T': 4}"
      ]
     },
     "execution_count": 11,
     "metadata": {},
     "output_type": "execute_result"
    }
   ],
   "source": [
    "m.counts[:, 3] # accessing occurence of nucleotides in a position"
   ]
  },
  {
   "cell_type": "code",
   "execution_count": 12,
   "metadata": {},
   "outputs": [
    {
     "data": {
      "text/plain": [
       "Seq('AATTC')"
      ]
     },
     "execution_count": 12,
     "metadata": {},
     "output_type": "execute_result"
    }
   ],
   "source": [
    "m.consensus # the consensus sequence of the motif"
   ]
  },
  {
   "cell_type": "code",
   "execution_count": 13,
   "metadata": {},
   "outputs": [
    {
     "data": {
      "text/plain": [
       "Seq('CGAAA')"
      ]
     },
     "execution_count": 13,
     "metadata": {},
     "output_type": "execute_result"
    }
   ],
   "source": [
    "m.anticonsensus # the anticonsensus sequence of the motif"
   ]
  },
  {
   "cell_type": "code",
   "execution_count": 14,
   "metadata": {},
   "outputs": [
    {
     "data": {
      "text/plain": [
       "Seq('AATTC')"
      ]
     },
     "execution_count": 14,
     "metadata": {},
     "output_type": "execute_result"
    }
   ],
   "source": [
    "m.degenerate_consensus # the degenerate consensus sequence of the motif"
   ]
  },
  {
   "cell_type": "markdown",
   "metadata": {},
   "source": [
    "## Summary: In this tutorial, among multiple instances of a DNA motif, we created consensus, anticonsensus and degeenrate consensus sequence instances."
   ]
  },
  {
   "cell_type": "markdown",
   "metadata": {},
   "source": [
    "# Finish!"
   ]
  }
 ],
 "metadata": {
  "kernelspec": {
   "display_name": "bioinformatics_base",
   "language": "python",
   "name": "python3"
  },
  "language_info": {
   "codemirror_mode": {
    "name": "ipython",
    "version": 3
   },
   "file_extension": ".py",
   "mimetype": "text/x-python",
   "name": "python",
   "nbconvert_exporter": "python",
   "pygments_lexer": "ipython3",
   "version": "3.9.7"
  },
  "orig_nbformat": 4
 },
 "nbformat": 4,
 "nbformat_minor": 2
}
