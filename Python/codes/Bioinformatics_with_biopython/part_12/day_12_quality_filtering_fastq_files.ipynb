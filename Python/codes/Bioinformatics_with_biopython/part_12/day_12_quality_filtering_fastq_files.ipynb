{
 "cells": [
  {
   "cell_type": "markdown",
   "metadata": {},
   "source": [
    "# Quality filtering for FASTQ files"
   ]
  },
  {
   "cell_type": "markdown",
   "metadata": {},
   "source": [
    "## Context:\n",
    "- In this tutorial, we will read FASTQ data and filter sequences based upon Phred quality score."
   ]
  },
  {
   "cell_type": "markdown",
   "metadata": {},
   "source": [
    "### Get Data"
   ]
  },
  {
   "cell_type": "code",
   "execution_count": 1,
   "metadata": {},
   "outputs": [
    {
     "name": "stderr",
     "output_type": "stream",
     "text": [
      "--2023-07-14 02:23:24--  ftp://ftp.sra.ebi.ac.uk/vol1/fastq/SRR020/SRR020192/SRR020192.fastq.gz\n",
      "           => 'SRR020192.fastq.gz'\n",
      "Resolving ftp.sra.ebi.ac.uk (ftp.sra.ebi.ac.uk)... 193.62.193.138\n",
      "Connecting to ftp.sra.ebi.ac.uk (ftp.sra.ebi.ac.uk)|193.62.193.138|:21... connected.\n",
      "Logging in as anonymous ... Logged in!\n",
      "==> SYST ... done.    ==> PWD ... done.\n",
      "==> TYPE I ... done.  ==> CWD (1) /vol1/fastq/SRR020/SRR020192 ... done.\n",
      "==> SIZE SRR020192.fastq.gz ... 1777817\n",
      "==> PASV ... done.    ==> RETR SRR020192.fastq.gz ... done.\n",
      "Length: 1777817 (1.7M) (unauthoritative)\n",
      "\n",
      "     0K .......... .......... .......... .......... ..........  2% 49.5K 34s\n",
      "    50K .......... .......... .......... .......... ..........  5%  291K 19s\n",
      "   100K .......... .......... .......... .......... ..........  8% 4.48M 13s\n",
      "   150K .......... .......... .......... .......... .......... 11% 3.79M 9s\n",
      "   200K .......... .......... .......... .......... .......... 14% 80.1K 11s\n",
      "   250K .......... .......... .......... .......... .......... 17% 5.15M 9s\n",
      "   300K .......... .......... .......... .......... .......... 20%  315K 8s\n",
      "   350K .......... .......... .......... .......... .......... 23% 1.56M 7s\n",
      "   400K .......... .......... .......... .......... .......... 25% 2.69M 6s\n",
      "   450K .......... .......... .......... .......... .......... 28% 3.59M 5s\n",
      "   500K .......... .......... .......... .......... .......... 31% 34.4M 4s\n",
      "   550K .......... .......... .......... .......... .......... 34%  422K 4s\n",
      "   600K .......... .......... .......... .......... .......... 37%  742K 4s\n",
      "   650K .......... .......... .......... .......... .......... 40% 4.15M 3s\n",
      "   700K .......... .......... .......... .......... .......... 43% 3.56M 3s\n",
      "   750K .......... .......... .......... .......... .......... 46% 16.4M 3s\n",
      "   800K .......... .......... .......... .......... .......... 48% 30.3M 2s\n",
      "   850K .......... .......... .......... .......... .......... 51% 27.3M 2s\n",
      "   900K .......... .......... .......... .......... .......... 54% 5.56M 2s\n",
      "   950K .......... .......... .......... .......... .......... 57% 21.3M 2s\n",
      "  1000K .......... .......... .......... .......... .......... 60% 26.0M 1s\n",
      "  1050K .......... .......... .......... .......... .......... 63% 22.3M 1s\n",
      "  1100K .......... .......... .......... .......... .......... 66% 30.7M 1s\n",
      "  1150K .......... .......... .......... .......... .......... 69% 86.5K 1s\n",
      "  1200K .......... .......... .......... .......... .......... 71% 4.04M 1s\n",
      "  1250K .......... .......... .......... .......... .......... 74% 1.15M 1s\n",
      "  1300K .......... .......... .......... .......... .......... 77% 1.08M 1s\n",
      "  1350K .......... .......... .......... .......... .......... 80% 24.7M 1s\n",
      "  1400K .......... .......... .......... .......... .......... 83% 3.15M 1s\n",
      "  1450K .......... .......... .......... .......... .......... 86% 20.2M 0s\n",
      "  1500K .......... .......... .......... .......... .......... 89% 2.58M 0s\n",
      "  1550K .......... .......... .......... .......... .......... 92% 37.6M 0s\n",
      "  1600K .......... .......... .......... .......... .......... 95% 4.58M 0s\n",
      "  1650K .......... .......... .......... .......... .......... 97% 39.1K 0s\n",
      "  1700K .......... .......... .......... ......               100% 10.7M=4.3s\n",
      "\n",
      "2023-07-14 02:23:31 (403 KB/s) - 'SRR020192.fastq.gz' saved [1777817]\n",
      "\n"
     ]
    }
   ],
   "source": [
    "!wget ftp://ftp.sra.ebi.ac.uk/vol1/fastq/SRR020/SRR020192/SRR020192.fastq.gz "
   ]
  },
  {
   "cell_type": "code",
   "execution_count": 3,
   "metadata": {},
   "outputs": [],
   "source": [
    "# !gzip -d SRR020192.fastq.gz\n",
    "\n",
    "# The above code didn't work on my system, thus I unzipped manually using 7-zip."
   ]
  },
  {
   "cell_type": "code",
   "execution_count": 5,
   "metadata": {},
   "outputs": [
    {
     "name": "stdout",
     "output_type": "stream",
     "text": [
      "No of sequences: 41892\n"
     ]
    }
   ],
   "source": [
    "# counting the number of sequences\n",
    "\n",
    "from Bio import SeqIO\n",
    "count = 0\n",
    "for rec in SeqIO.parse(\"SRR020192.fastq\", \"fastq\"):\n",
    "    count += 1\n",
    "print(f\"No of sequences: {count}\") "
   ]
  },
  {
   "cell_type": "code",
   "execution_count": 6,
   "metadata": {},
   "outputs": [
    {
     "data": {
      "text/plain": [
       "[24,\n",
       " 23,\n",
       " 27,\n",
       " 30,\n",
       " 30,\n",
       " 30,\n",
       " 23,\n",
       " 23,\n",
       " 24,\n",
       " 23,\n",
       " 23,\n",
       " 30,\n",
       " 28,\n",
       " 27,\n",
       " 25,\n",
       " 25,\n",
       " 27,\n",
       " 27,\n",
       " 27,\n",
       " 22,\n",
       " 22,\n",
       " 24,\n",
       " 18,\n",
       " 18,\n",
       " 18,\n",
       " 30,\n",
       " 19,\n",
       " 19,\n",
       " 23,\n",
       " 23,\n",
       " 30,\n",
       " 30,\n",
       " 32,\n",
       " 32,\n",
       " 32,\n",
       " 30,\n",
       " 24,\n",
       " 23,\n",
       " 23,\n",
       " 27,\n",
       " 30,\n",
       " 32,\n",
       " 30,\n",
       " 32,\n",
       " 29,\n",
       " 28,\n",
       " 28,\n",
       " 17,\n",
       " 17,\n",
       " 17,\n",
       " 17,\n",
       " 24,\n",
       " 17,\n",
       " 17,\n",
       " 13,\n",
       " 15,\n",
       " 17,\n",
       " 25,\n",
       " 25,\n",
       " 24,\n",
       " 24,\n",
       " 23,\n",
       " 27,\n",
       " 27,\n",
       " 15,\n",
       " 15,\n",
       " 15,\n",
       " 15,\n",
       " 15,\n",
       " 17,\n",
       " 17,\n",
       " 11,\n",
       " 15,\n",
       " 15]"
      ]
     },
     "execution_count": 6,
     "metadata": {},
     "output_type": "execute_result"
    }
   ],
   "source": [
    "# get the phred quality scores for each nucleotide in a sequence\n",
    "rec = SeqIO.parse(\"SRR020192.fastq\", \"fastq\")\n",
    "rec = next(rec)\n",
    "rec.letter_annotations['phred_quality']"
   ]
  },
  {
   "cell_type": "code",
   "execution_count": 9,
   "metadata": {},
   "outputs": [
    {
     "name": "stdout",
     "output_type": "stream",
     "text": [
      "Saved 20050 reads.\n"
     ]
    }
   ],
   "source": [
    "# get the sequences with minimum phred quality score >= 20\n",
    "good_reads = (\n",
    "    rec\n",
    "    for rec in SeqIO.parse(\"SRR020192.fastq\", \"fastq\")\n",
    "    if min(rec.letter_annotations[\"phred_quality\"]) >= 20\n",
    ")\n",
    "count = SeqIO.write(good_reads, \"good_quality.fastq\", \"fastq\")\n",
    "print(f\"Saved {count} reads.\")"
   ]
  },
  {
   "cell_type": "markdown",
   "metadata": {},
   "source": [
    "Interpretation: Out of total 41892 reads, 20050 reads have minimum nucleotide phred quality score of 20."
   ]
  },
  {
   "cell_type": "markdown",
   "metadata": {},
   "source": [
    "## Summary: In this tutorial, we downloaded fastq file, filtered out reads with minimum nucleotide phred quality score of 20."
   ]
  },
  {
   "cell_type": "markdown",
   "metadata": {},
   "source": [
    "# Finish!"
   ]
  }
 ],
 "metadata": {
  "kernelspec": {
   "display_name": "bioinformatics_base",
   "language": "python",
   "name": "python3"
  },
  "language_info": {
   "codemirror_mode": {
    "name": "ipython",
    "version": 3
   },
   "file_extension": ".py",
   "mimetype": "text/x-python",
   "name": "python",
   "nbconvert_exporter": "python",
   "pygments_lexer": "ipython3",
   "version": "3.9.7"
  },
  "orig_nbformat": 4
 },
 "nbformat": 4,
 "nbformat_minor": 2
}
