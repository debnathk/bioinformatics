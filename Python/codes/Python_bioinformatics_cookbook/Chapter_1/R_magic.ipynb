{
 "cells": [
  {
   "attachments": {},
   "cell_type": "markdown",
   "metadata": {},
   "source": [
    "# Performing R magic with Jupyter\n",
    "(To make R interfacing much easier and more declarative)"
   ]
  },
  {
   "cell_type": "code",
   "execution_count": null,
   "metadata": {},
   "outputs": [],
   "source": [
    "# import rpy2.robjects as robjects\n",
    "# import rpy2.robjects.lib.ggplot2 as ggplot2\n",
    "%load_ext rpy2.ipython"
   ]
  },
  {
   "attachments": {},
   "cell_type": "markdown",
   "metadata": {},
   "source": [
    "Note: The libraries above couldn't be loaded die to the limited computational power of my system.\n",
    "\n",
    "Thus, the code blocks below can't be run :("
   ]
  },
  {
   "cell_type": "code",
   "execution_count": null,
   "metadata": {},
   "outputs": [],
   "source": [
    "%%R\n",
    "seq.data <- read.delim('sequence.index', header=TRUE,\n",
    "stringsAsFactors=FALSE)\n",
    "seq.data$READ_COUNT <- as.integer(seq.data$READ_COUNT)\n",
    "seq.data$BASE_COUNT <- as.integer(seq.data$BASE_COUNT)"
   ]
  },
  {
   "cell_type": "code",
   "execution_count": null,
   "metadata": {},
   "outputs": [],
   "source": [
    "seq_data = %R seq.data\n",
    "print(type(seq_data)) # pandas dataframe!"
   ]
  },
  {
   "cell_type": "code",
   "execution_count": null,
   "metadata": {},
   "outputs": [],
   "source": [
    "my_col = list(seq_data.columns).index(\"CENTER_NAME\")\n",
    "# seq_data['CENTER_NAME'] = seq_data['CENTER_NAME'].apply(lambda` x: x.upper())\n",
    "seq_data['CENTER_NAME'] = seq_data['CENTER_NAME'].str.upper()"
   ]
  },
  {
   "cell_type": "code",
   "execution_count": null,
   "metadata": {},
   "outputs": [],
   "source": [
    "%R -i seq_data\n",
    "%R print(colnames(seq_data))"
   ]
  },
  {
   "cell_type": "code",
   "execution_count": null,
   "metadata": {},
   "outputs": [],
   "source": [
    "%%R\n",
    "bar <- ggplot(seq_data) + aes(factor(CENTER_NAME)) +\n",
    "geom_bar() + theme(axis.text.x = element_text(angle = 90,\n",
    "hjust = 1))\n",
    "print(bar)"
   ]
  }
 ],
 "metadata": {
  "kernelspec": {
   "display_name": "bioinformatics_r",
   "language": "python",
   "name": "python3"
  },
  "language_info": {
   "codemirror_mode": {
    "name": "ipython",
    "version": 3
   },
   "file_extension": ".py",
   "mimetype": "text/x-python",
   "name": "python",
   "nbconvert_exporter": "python",
   "pygments_lexer": "ipython3",
   "version": "3.9.7"
  },
  "orig_nbformat": 4
 },
 "nbformat": 4,
 "nbformat_minor": 2
}
