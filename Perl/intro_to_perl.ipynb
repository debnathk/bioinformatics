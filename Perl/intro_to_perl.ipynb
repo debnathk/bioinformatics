{
 "cells": [
  {
   "cell_type": "markdown",
   "metadata": {},
   "source": [
    "# Introduction to Perl Programming\n",
    "In this tutorial, we will learn some basic concepts related to Perl programming.\n"
   ]
  },
  {
   "cell_type": "markdown",
   "metadata": {},
   "source": [
    "Before starting with the commands, let's go through some introduction to Perl."
   ]
  },
  {
   "cell_type": "markdown",
   "metadata": {},
   "source": [
    "## What is the purpose of Perl programming language?\n",
    "The purpose of the Perl language is to provide a flexible and powerful tool for text processing, automation, and rapid development of web applications."
   ]
  }
 ],
 "metadata": {
  "language_info": {
   "name": "python"
  },
  "orig_nbformat": 4
 },
 "nbformat": 4,
 "nbformat_minor": 2
}
